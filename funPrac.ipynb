{
 "cells": [
  {
   "cell_type": "code",
   "execution_count": 15,
   "id": "d50db7ff-0d3d-47fb-9e63-8bfd2e7e45d4",
   "metadata": {},
   "outputs": [
    {
     "name": "stdout",
     "output_type": "stream",
     "text": [
      "[1, 3, 6]\n",
      "[2, 4, 98]\n"
     ]
    }
   ],
   "source": [
    "# printing only even nubers in the list\n",
    "l1 = [1,2,3,4,9,5,98]\n",
    "l2  = []\n",
    "index = []\n",
    "for i in range(len(l1)):\n",
    "    if l1[i]%2==0:\n",
    "        index.append(i)\n",
    "        l2.append(l1[i])\n",
    "print(index)\n",
    "print(l2)"
   ]
  },
  {
   "cell_type": "code",
   "execution_count": 22,
   "id": "458ccdf6-0f23-49b3-9014-cba66c1cee44",
   "metadata": {},
   "outputs": [
    {
     "name": "stdin",
     "output_type": "stream",
     "text": [
      "Enter your name Arun\n"
     ]
    },
    {
     "name": "stdout",
     "output_type": "stream",
     "text": [
      "My name is Arun\n"
     ]
    }
   ],
   "source": [
    "# Classes and objects in python\n",
    "class Person:\n",
    "    def name(name):\n",
    "        print(f\"My name is {name}\")\n",
    "    def age():\n",
    "        print(\"This is age\")\n",
    "name = str(input(\"Enter your name\"))\n",
    "obj1 = Person.name(name)\n",
    "# print(obj1)\n",
    "\n",
    "    "
   ]
  },
  {
   "cell_type": "code",
   "execution_count": 33,
   "id": "36301934-5c86-402d-93f7-8263945ea403",
   "metadata": {},
   "outputs": [
    {
     "name": "stdout",
     "output_type": "stream",
     "text": [
      "JHI\n",
      "Hello my name is Arun and my age is 22\n"
     ]
    }
   ],
   "source": [
    "class New:\n",
    "    def __init__(self,name,age):\n",
    "        self.name = name\n",
    "        self.age = age\n",
    "        print(\"JHI\")\n",
    "    def info(self):\n",
    "        print(f\"Hello my name is {self.name} and my age is {self.age}\")\n",
    "obj1 = New(\"Arun\",22) \n",
    "obj1.info()"
   ]
  },
  {
   "cell_type": "code",
   "execution_count": 35,
   "id": "e834ab62-4eea-4d9d-bf4c-789f60dbbc4b",
   "metadata": {},
   "outputs": [
    {
     "name": "stdout",
     "output_type": "stream",
     "text": [
      "Area: 78.53981633974483\n",
      "Circumference: 31.41592653589793\n"
     ]
    }
   ],
   "source": [
    "# finding the area and the circumference of the circle\n",
    "import math\n",
    "\n",
    "class Circle:\n",
    "    def __init__(self, radius):\n",
    "        self.radius = radius\n",
    "\n",
    "    def area(self):\n",
    "        return math.pi * (self.radius ** 2)\n",
    "\n",
    "    def circumference(self):\n",
    "        return 2 * math.pi * self.radius\n",
    "\n",
    "my_circle = Circle(5)\n",
    "print(f\"Area: {my_circle.area()}\") \n",
    "print(f\"Circumference: {my_circle.circumference()}\")  \n"
   ]
  },
  {
   "cell_type": "code",
   "execution_count": 37,
   "id": "6a3fb7a0-4fd1-4574-b31d-34a15920eb85",
   "metadata": {},
   "outputs": [
    {
     "name": "stdout",
     "output_type": "stream",
     "text": [
      "Balance: 1200\n"
     ]
    }
   ],
   "source": [
    "class BankAccount:\n",
    "    def __init__(self, account_number, account_holder, balance=0):\n",
    "        self.account_number = account_number\n",
    "        self.account_holder = account_holder\n",
    "        self.balance = balance\n",
    "\n",
    "    def deposit(self, amount):\n",
    "        self.balance += amount\n",
    "\n",
    "    def withdraw(self, amount):\n",
    "        if self.balance >= amount:\n",
    "            self.balance -= amount\n",
    "        else:\n",
    "            print(\"Insufficient funds\")\n",
    "\n",
    "my_account = BankAccount(\"123456\", \"Alice\", 1000)\n",
    "my_account.deposit(500)\n",
    "my_account.withdraw(300)\n",
    "print(f\"Balance: {my_account.balance}\")  "
   ]
  },
  {
   "cell_type": "code",
   "execution_count": null,
   "id": "7627b0c8-f350-489f-ae37-8215dd929ede",
   "metadata": {},
   "outputs": [],
   "source": []
  }
 ],
 "metadata": {
  "kernelspec": {
   "display_name": "Python 3 (ipykernel)",
   "language": "python",
   "name": "python3"
  },
  "language_info": {
   "codemirror_mode": {
    "name": "ipython",
    "version": 3
   },
   "file_extension": ".py",
   "mimetype": "text/x-python",
   "name": "python",
   "nbconvert_exporter": "python",
   "pygments_lexer": "ipython3",
   "version": "3.12.0"
  }
 },
 "nbformat": 4,
 "nbformat_minor": 5
}
