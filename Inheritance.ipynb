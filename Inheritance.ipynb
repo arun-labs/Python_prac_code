{
 "cells": [
  {
   "cell_type": "code",
   "execution_count": 8,
   "id": "560bf269-382e-4dd6-b522-59eef5ac234f",
   "metadata": {},
   "outputs": [
    {
     "name": "stdout",
     "output_type": "stream",
     "text": [
      "Hey my name is Arun and working at Banglore\n"
     ]
    }
   ],
   "source": [
    "#  Understanding inheritance\n",
    "class Employee:\n",
    "    def __init__(self,name,loc):\n",
    "        self.name = name\n",
    "        self.loc = loc\n",
    "    def intro(self):\n",
    "        return f\"Hey my name is {self.name} and working at {self.loc}\"\n",
    "    def loc(self):\n",
    "        return f\"Hey my working location is {self.loc}\"\n",
    "class comp1(Employee):\n",
    "        def __init__(self,name,loc,comp):\n",
    "            super().__init__(name,loc)\n",
    "            self.comp = comp\n",
    "        def com(self):\n",
    "            return f\"Hey I work in {self.comp}\"\n",
    "obj1 = comp1(\"Arun\",\"Banglore\",\"comp123\")\n",
    "print(obj1.intro())"
   ]
  },
  {
   "cell_type": "code",
   "execution_count": 9,
   "id": "40ae10de-5cba-4e49-8f34-67ec88ee3aa8",
   "metadata": {},
   "outputs": [
    {
     "name": "stdout",
     "output_type": "stream",
     "text": [
      "The Model of the vehical is xyz year 2012 fuel 30\n"
     ]
    }
   ],
   "source": [
    "#Inheritace for vehical\n",
    "class Vehical:\n",
    "    def __init__(self,model,year,fuel):\n",
    "        self.model = model\n",
    "        self.year = year\n",
    "        self.fuel = fuel\n",
    "    def info(self):\n",
    "        return f\"The Model of the vehical is {self.model} year {self.year} fuel {self.fuel}\"\n",
    "class Car(Vehical):\n",
    "    def __init__(self,model,year,fuel,doors):\n",
    "        super().__init__(model,year,fuel)\n",
    "        self.doors = doors\n",
    "\n",
    "    def info_car(self):\n",
    "        return f\"this is a car with no of doors = {self.doors}\"\n",
    "class MotorCycle(Vehical):\n",
    "    def __init__(self,model,year,fuel,wheels):\n",
    "        super().__init__(model,year,fuel)\n",
    "        self.wheels = wheels\n",
    "    def info_moto(self):\n",
    "        return f\"this is a vehical with {wheels} wheels\"\n",
    "obj1 = MotorCycle(\"xyz\",2012,30,wheels = 2)\n",
    "print(obj1.info())\n",
    "    "
   ]
  },
  {
   "cell_type": "code",
   "execution_count": 10,
   "id": "9baad806-2a56-4a9a-87cc-e9eedd9c1145",
   "metadata": {},
   "outputs": [
    {
     "name": "stdout",
     "output_type": "stream",
     "text": [
      "Method 1 from Parent1\n",
      "Method 2 from Parent2\n",
      "Method 3 from Child\n"
     ]
    }
   ],
   "source": [
    "# Multiple inheritance\n",
    "class Parent1:\n",
    "    def method1(self):\n",
    "        print(\"Method 1 from Parent1\")\n",
    "\n",
    "class Parent2:\n",
    "    def method2(self):\n",
    "        print(\"Method 2 from Parent2\")\n",
    "\n",
    "class Child(Parent1, Parent2):\n",
    "    def method3(self):\n",
    "        print(\"Method 3 from Child\")\n",
    "\n",
    "child_obj = Child()\n",
    "\n",
    "\n",
    "child_obj.method1()\n",
    "child_obj.method2()\n",
    "\n",
    "child_obj.method3()\n"
   ]
  },
  {
   "cell_type": "code",
   "execution_count": 11,
   "id": "7f968961-841d-4284-b547-9e35eed2b3d4",
   "metadata": {},
   "outputs": [
    {
     "name": "stdout",
     "output_type": "stream",
     "text": [
      "Method from Grandparent\n",
      "Method from Parent\n",
      "Method from Child\n"
     ]
    }
   ],
   "source": [
    "# Multilevel Inheritance\n",
    "class Grandparent:\n",
    "    def grandparent_method(self):\n",
    "        print(\"Method from Grandparent\")\n",
    "\n",
    "class Parent(Grandparent):\n",
    "    def parent_method(self):\n",
    "        print(\"Method from Parent\")\n",
    "\n",
    "class Child(Parent):\n",
    "    def child_method(self):\n",
    "        print(\"Method from Child\")\n",
    "\n",
    "\n",
    "child_obj = Child()\n",
    "\n",
    "\n",
    "child_obj.grandparent_method()\n",
    "child_obj.parent_method()\n",
    "child_obj.child_method()\n"
   ]
  },
  {
   "cell_type": "code",
   "execution_count": null,
   "id": "cdb8b2b6-317e-4871-a7af-2b1b99423815",
   "metadata": {},
   "outputs": [],
   "source": []
  }
 ],
 "metadata": {
  "kernelspec": {
   "display_name": "Python 3 (ipykernel)",
   "language": "python",
   "name": "python3"
  },
  "language_info": {
   "codemirror_mode": {
    "name": "ipython",
    "version": 3
   },
   "file_extension": ".py",
   "mimetype": "text/x-python",
   "name": "python",
   "nbconvert_exporter": "python",
   "pygments_lexer": "ipython3",
   "version": "3.12.0"
  }
 },
 "nbformat": 4,
 "nbformat_minor": 5
}
