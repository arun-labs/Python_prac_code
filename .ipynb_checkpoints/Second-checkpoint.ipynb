{
 "cells": [
  {
   "cell_type": "code",
   "execution_count": 1,
   "id": "4faaac33-1fb3-433f-980c-11c0901354b5",
   "metadata": {},
   "outputs": [
    {
     "name": "stdout",
     "output_type": "stream",
     "text": [
      "Sum of even numbers: 110\n"
     ]
    }
   ],
   "source": [
    "sum_of_evens = 0\n",
    "for i in range(2, 21, 2):\n",
    "    sum_of_evens += i\n",
    "print(\"Sum of even numbers:\", sum_of_evens)\n"
   ]
  },
  {
   "cell_type": "code",
   "execution_count": 2,
   "id": "c051c6d4-74d3-411f-9205-9c6e3daf03e3",
   "metadata": {},
   "outputs": [
    {
     "ename": "TypeError",
     "evalue": "'int' object is not reversible",
     "output_type": "error",
     "traceback": [
      "\u001b[1;31m---------------------------------------------------------------------------\u001b[0m",
      "\u001b[1;31mTypeError\u001b[0m                                 Traceback (most recent call last)",
      "Cell \u001b[1;32mIn[2], line 3\u001b[0m\n\u001b[0;32m      1\u001b[0m text \u001b[38;5;241m=\u001b[39m \u001b[38;5;124m\"\u001b[39m\u001b[38;5;124mHello, World!\u001b[39m\u001b[38;5;124m\"\u001b[39m\n\u001b[0;32m      2\u001b[0m reversed_text \u001b[38;5;241m=\u001b[39m \u001b[38;5;124m\"\u001b[39m\u001b[38;5;124m\"\u001b[39m\n\u001b[1;32m----> 3\u001b[0m \u001b[38;5;28;01mfor\u001b[39;00m char \u001b[38;5;129;01min\u001b[39;00m \u001b[38;5;28;43mreversed\u001b[39;49m\u001b[43m(\u001b[49m\u001b[43mi\u001b[49m\u001b[43m)\u001b[49m:\n\u001b[0;32m      4\u001b[0m     reversed_text \u001b[38;5;241m+\u001b[39m\u001b[38;5;241m=\u001b[39m char\n\u001b[0;32m      5\u001b[0m \u001b[38;5;28mprint\u001b[39m(reversed_text)\n",
      "\u001b[1;31mTypeError\u001b[0m: 'int' object is not reversible"
     ]
    }
   ],
   "source": [
    "text = \"Hello, World!\"\n",
    "reversed_text = \"\"\n",
    "for char in reversed(i):\n",
    "    reversed_text += char\n",
    "print(reversed_text)\n"
   ]
  },
  {
   "cell_type": "code",
   "execution_count": 3,
   "id": "bce1d81f-d6f6-4cf9-9c0a-5040131dbd6a",
   "metadata": {},
   "outputs": [
    {
     "name": "stdout",
     "output_type": "stream",
     "text": [
      "!dlroW ,olleH\n"
     ]
    }
   ],
   "source": [
    "text = \"Hello, World!\"\n",
    "reversed_text = \"\"\n",
    "for char in reversed(text):\n",
    "    reversed_text += char\n",
    "print(reversed_text)\n"
   ]
  },
  {
   "cell_type": "code",
   "execution_count": 4,
   "id": "23a6d8ef-ae79-44db-aeee-afdb43ff7a54",
   "metadata": {},
   "outputs": [
    {
     "name": "stdout",
     "output_type": "stream",
     "text": [
      "Factorial of 5 is 120\n"
     ]
    }
   ],
   "source": [
    "num = 5\n",
    "factorial = 1\n",
    "for i in range(1, num + 1):\n",
    "    factorial *= i\n",
    "print(f\"Factorial of {num} is {factorial}\")\n"
   ]
  },
  {
   "cell_type": "code",
   "execution_count": null,
   "id": "981d3207-2302-496f-ae02-0fff1a7e3f89",
   "metadata": {},
   "outputs": [],
   "source": []
  }
 ],
 "metadata": {
  "kernelspec": {
   "display_name": "Python 3 (ipykernel)",
   "language": "python",
   "name": "python3"
  },
  "language_info": {
   "codemirror_mode": {
    "name": "ipython",
    "version": 3
   },
   "file_extension": ".py",
   "mimetype": "text/x-python",
   "name": "python",
   "nbconvert_exporter": "python",
   "pygments_lexer": "ipython3",
   "version": "3.12.0"
  }
 },
 "nbformat": 4,
 "nbformat_minor": 5
}
