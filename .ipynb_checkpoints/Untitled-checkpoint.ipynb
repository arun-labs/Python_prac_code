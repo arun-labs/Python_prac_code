{
 "cells": [
  {
   "cell_type": "code",
   "execution_count": 2,
   "id": "9c052858-c04f-417d-806c-4c1ae3214384",
   "metadata": {},
   "outputs": [
    {
     "ename": "TypeError",
     "evalue": "object of type 'int' has no len()",
     "output_type": "error",
     "traceback": [
      "\u001b[1;31m---------------------------------------------------------------------------\u001b[0m",
      "\u001b[1;31mTypeError\u001b[0m                                 Traceback (most recent call last)",
      "Cell \u001b[1;32mIn[2], line 1\u001b[0m\n\u001b[1;32m----> 1\u001b[0m \u001b[38;5;28;43mlen\u001b[39;49m\u001b[43m(\u001b[49m\u001b[38;5;241;43m123\u001b[39;49m\u001b[43m)\u001b[49m\n",
      "\u001b[1;31mTypeError\u001b[0m: object of type 'int' has no len()"
     ]
    }
   ],
   "source": [
    "len(123)"
   ]
  },
  {
   "cell_type": "code",
   "execution_count": 3,
   "id": "10268030-d2b4-4660-8e28-33b70369119b",
   "metadata": {},
   "outputs": [
    {
     "data": {
      "text/plain": [
       "3"
      ]
     },
     "execution_count": 3,
     "metadata": {},
     "output_type": "execute_result"
    }
   ],
   "source": [
    "len(\"123\")"
   ]
  },
  {
   "cell_type": "code",
   "execution_count": 5,
   "id": "111d30ec-7a8e-49fe-8c3c-119a2547f3fb",
   "metadata": {},
   "outputs": [
    {
     "name": "stdin",
     "output_type": "stream",
     "text": [
      "Enter your name arun\n"
     ]
    },
    {
     "ename": "TypeError",
     "evalue": "can only concatenate str (not \"int\") to str",
     "output_type": "error",
     "traceback": [
      "\u001b[1;31m---------------------------------------------------------------------------\u001b[0m",
      "\u001b[1;31mTypeError\u001b[0m                                 Traceback (most recent call last)",
      "Cell \u001b[1;32mIn[5], line 3\u001b[0m\n\u001b[0;32m      1\u001b[0m name \u001b[38;5;241m=\u001b[39m \u001b[38;5;28minput\u001b[39m(\u001b[38;5;124m\"\u001b[39m\u001b[38;5;124mEnter your name\u001b[39m\u001b[38;5;124m\"\u001b[39m)\n\u001b[0;32m      2\u001b[0m length\u001b[38;5;241m=\u001b[39m\u001b[38;5;28mlen\u001b[39m(name)\n\u001b[1;32m----> 3\u001b[0m \u001b[38;5;28mprint\u001b[39m(\u001b[38;5;124;43m\"\u001b[39;49m\u001b[38;5;124;43mYour name has \u001b[39;49m\u001b[38;5;124;43m\"\u001b[39;49m\u001b[38;5;241;43m+\u001b[39;49m\u001b[43mlength\u001b[49m\u001b[38;5;241m+\u001b[39m\u001b[38;5;124m\"\u001b[39m\u001b[38;5;124m of characters\u001b[39m\u001b[38;5;124m\"\u001b[39m)\n",
      "\u001b[1;31mTypeError\u001b[0m: can only concatenate str (not \"int\") to str"
     ]
    }
   ],
   "source": [
    "name = input(\"Enter your name\")\n",
    "length=len(name)\n",
    "print(\"Your name has \"+length+\" of characters\")"
   ]
  },
  {
   "cell_type": "code",
   "execution_count": 7,
   "id": "d7bc3cd3-0743-4ad6-9abc-30870e96feda",
   "metadata": {},
   "outputs": [
    {
     "name": "stdout",
     "output_type": "stream",
     "text": [
      "Your length4 .\n"
     ]
    }
   ],
   "source": [
    "# len is the keyword that used to find the length of strings if we try it with integers it wont work\n",
    "# for to print the length we need to convert itr to the string by typecasting\n",
    "length = str(len(name))\n",
    "print(\"Your length \"+length+\" .\")\n"
   ]
  },
  {
   "cell_type": "code",
   "execution_count": 8,
   "id": "666b8e0a-70a5-4605-8705-00f437288ec7",
   "metadata": {},
   "outputs": [
    {
     "data": {
      "text/plain": [
       "str"
      ]
     },
     "execution_count": 8,
     "metadata": {},
     "output_type": "execute_result"
    }
   ],
   "source": [
    "# usage of type function\n",
    "type(\"Arun\")"
   ]
  },
  {
   "cell_type": "code",
   "execution_count": 14,
   "id": "fba1a5aa-e440-4b85-b035-0796b949ee64",
   "metadata": {},
   "outputs": [
    {
     "name": "stdout",
     "output_type": "stream",
     "text": [
      "246.34\n",
      "<class 'int'>\n"
     ]
    },
    {
     "data": {
      "text/plain": [
       "float"
      ]
     },
     "execution_count": 14,
     "metadata": {},
     "output_type": "execute_result"
    }
   ],
   "source": [
    "a=123\n",
    "b=123.34\n",
    "print(float(a)+b)\n",
    "print(type(a))\n",
    "type(b)"
   ]
  },
  {
   "cell_type": "code",
   "execution_count": 18,
   "id": "785eabea-fbd5-4b7c-97ce-dd1146dbbf4b",
   "metadata": {},
   "outputs": [
    {
     "ename": "TypeError",
     "evalue": "can only concatenate str (not \"int\") to str",
     "output_type": "error",
     "traceback": [
      "\u001b[1;31m---------------------------------------------------------------------------\u001b[0m",
      "\u001b[1;31mTypeError\u001b[0m                                 Traceback (most recent call last)",
      "Cell \u001b[1;32mIn[18], line 3\u001b[0m\n\u001b[0;32m      1\u001b[0m a\u001b[38;5;241m=\u001b[39m\u001b[38;5;124m\"\u001b[39m\u001b[38;5;124m123\u001b[39m\u001b[38;5;124m\"\u001b[39m\n\u001b[0;32m      2\u001b[0m b\u001b[38;5;241m=\u001b[39m\u001b[38;5;241m123\u001b[39m\n\u001b[1;32m----> 3\u001b[0m \u001b[43ma\u001b[49m\u001b[38;5;241;43m+\u001b[39;49m\u001b[43mb\u001b[49m\n",
      "\u001b[1;31mTypeError\u001b[0m: can only concatenate str (not \"int\") to str"
     ]
    }
   ],
   "source": [
    "a=\"123\"\n",
    "b=123\n",
    "a+b"
   ]
  },
  {
   "cell_type": "code",
   "execution_count": 17,
   "id": "513727e7-99a4-492b-952b-283faf5cdc5d",
   "metadata": {},
   "outputs": [
    {
     "data": {
      "text/plain": [
       "'123123'"
      ]
     },
     "execution_count": 17,
     "metadata": {},
     "output_type": "execute_result"
    }
   ],
   "source": [
    "a=\"123\"\n",
    "b='123'\n",
    "a+b"
   ]
  },
  {
   "cell_type": "code",
   "execution_count": 24,
   "id": "5cad059c-3d65-49a1-a20d-838d3f763b5b",
   "metadata": {},
   "outputs": [
    {
     "name": "stdin",
     "output_type": "stream",
     "text": [
      "Enter the nuber 999\n"
     ]
    },
    {
     "name": "stdout",
     "output_type": "stream",
     "text": [
      "Wrong input\n",
      "0\n"
     ]
    }
   ],
   "source": [
    "#I have question to add the numbers in two digit number example 39 = 12(3+9)\n",
    "a = str(input(\"Enter the nuber\"))\n",
    "temp=0\n",
    "for i in a:\n",
    "    if len(a)==2:\n",
    "        temp=temp+int(i)\n",
    "    else:\n",
    "        print(\"Wrong input\")\n",
    "        break\n",
    "print(temp)   "
   ]
  },
  {
   "cell_type": "markdown",
   "id": "7e700495-1f33-44b7-8cd5-7085a77b7961",
   "metadata": {},
   "source": [
    "### Write a code to find the body mass index\n",
    "weight = int(input(\"Enter the weight(in kg)\"))\n",
    "height = float(input(\"Enter the height in meters\"))\n",
    "bmi = weight/height**2\n",
    "print(round(bmi,2))\n",
    "                   "
   ]
  },
  {
   "cell_type": "code",
   "execution_count": 29,
   "id": "8d590ef6-fe75-4647-9c98-f8f889fea4d2",
   "metadata": {},
   "outputs": [
    {
     "name": "stdout",
     "output_type": "stream",
     "text": [
      "2\n"
     ]
    }
   ],
   "source": [
    "print(round(3/2))"
   ]
  },
  {
   "cell_type": "code",
   "execution_count": 34,
   "id": "61753399-eb73-4e37-92e8-7a9a3d820cc0",
   "metadata": {},
   "outputs": [
    {
     "name": "stdout",
     "output_type": "stream",
     "text": [
      "this is f string 3.14 and 44\n"
     ]
    }
   ],
   "source": [
    "a=3.14\n",
    "b=44\n",
    "print(f\"this is f string {a} and {b}\")"
   ]
  },
  {
   "cell_type": "code",
   "execution_count": 40,
   "id": "3934bfd1-6d57-4358-97f4-0f232c2a428f",
   "metadata": {},
   "outputs": [
    {
     "name": "stdin",
     "output_type": "stream",
     "text": [
      "Enter your age 23\n"
     ]
    },
    {
     "name": "stdout",
     "output_type": "stream",
     "text": [
      "3484\n"
     ]
    }
   ],
   "source": [
    "# calculating number of leaves are pending for humans\n",
    "time = 4680\n",
    "age = int (input(\"Enter your age\"))\n",
    "time_used = age*52\n",
    "time_left = time-time_used\n",
    "print(time_left)"
   ]
  },
  {
   "cell_type": "code",
   "execution_count": 36,
   "id": "bd982823-31f8-4aa5-bd33-90d39d3bee17",
   "metadata": {},
   "outputs": [
    {
     "data": {
      "text/plain": [
       "4680"
      ]
     },
     "execution_count": 36,
     "metadata": {},
     "output_type": "execute_result"
    }
   ],
   "source": [
    "90*52"
   ]
  },
  {
   "cell_type": "code",
   "execution_count": 41,
   "id": "fb26adce-2d95-4030-af76-f25c856f3f94",
   "metadata": {},
   "outputs": [
    {
     "data": {
      "text/plain": [
       "1196"
      ]
     },
     "execution_count": 41,
     "metadata": {},
     "output_type": "execute_result"
    }
   ],
   "source": [
    "23*52\n"
   ]
  },
  {
   "cell_type": "code",
   "execution_count": 42,
   "id": "7e6ee68a-9f93-4f6f-ba01-eab6902eabe2",
   "metadata": {},
   "outputs": [
    {
     "data": {
      "text/plain": [
       "3484"
      ]
     },
     "execution_count": 42,
     "metadata": {},
     "output_type": "execute_result"
    }
   ],
   "source": [
    "4680-1196"
   ]
  },
  {
   "cell_type": "code",
   "execution_count": 44,
   "id": "5d1cf47f-c608-4621-8b68-245eaddfe29a",
   "metadata": {},
   "outputs": [
    {
     "name": "stdout",
     "output_type": "stream",
     "text": [
      "2.5\n"
     ]
    }
   ],
   "source": [
    "a = int(\"5\") / int(2.7)\n",
    "print(a)"
   ]
  },
  {
   "cell_type": "code",
   "execution_count": 2,
   "id": "e03d8e15-1952-4427-8043-369866a6d112",
   "metadata": {},
   "outputs": [
    {
     "name": "stdout",
     "output_type": "stream",
     "text": [
      "Factorial of 5 is 120\n"
     ]
    }
   ],
   "source": [
    "num = 5\n",
    "factorial = 1\n",
    "for i in range(1, num + 1):\n",
    "    factorial *= i\n",
    "print(f\"Factorial of {num} is {factorial}\")"
   ]
  },
  {
   "cell_type": "code",
   "execution_count": null,
   "id": "f396c1c4-1eb4-4bc6-a442-d7ebdb5e2947",
   "metadata": {},
   "outputs": [],
   "source": []
  }
 ],
 "metadata": {
  "kernelspec": {
   "display_name": "Python 3 (ipykernel)",
   "language": "python",
   "name": "python3"
  },
  "language_info": {
   "codemirror_mode": {
    "name": "ipython",
    "version": 3
   },
   "file_extension": ".py",
   "mimetype": "text/x-python",
   "name": "python",
   "nbconvert_exporter": "python",
   "pygments_lexer": "ipython3",
   "version": "3.12.0"
  }
 },
 "nbformat": 4,
 "nbformat_minor": 5
}
