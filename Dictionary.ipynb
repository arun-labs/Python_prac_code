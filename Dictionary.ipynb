{
 "cells": [
  {
   "cell_type": "code",
   "execution_count": 3,
   "id": "fbb3c56b-ea26-4d7e-bddf-6a8d67e5b94c",
   "metadata": {},
   "outputs": [
    {
     "name": "stdout",
     "output_type": "stream",
     "text": [
      "18\n",
      "Male\n"
     ]
    }
   ],
   "source": [
    "# Basics of dictionary\n",
    "my_dict = {\"1\":\"Arun\",\"age\":18,3:\"Male\"}\n",
    "print(my_dict[\"age\"])\n",
    "print(my_dict[3])"
   ]
  },
  {
   "cell_type": "code",
   "execution_count": 4,
   "id": "b2905cfc-8985-4b6a-ac34-f3513f0d0da9",
   "metadata": {},
   "outputs": [
    {
     "ename": "SyntaxError",
     "evalue": "invalid syntax (1505338048.py, line 2)",
     "output_type": "error",
     "traceback": [
      "\u001b[1;36m  Cell \u001b[1;32mIn[4], line 2\u001b[1;36m\u001b[0m\n\u001b[1;33m    my_dict.append(\"loc\":\"bang\")\u001b[0m\n\u001b[1;37m                        ^\u001b[0m\n\u001b[1;31mSyntaxError\u001b[0m\u001b[1;31m:\u001b[0m invalid syntax\n"
     ]
    }
   ],
   "source": [
    "# Add an detail in dictionary\n",
    "my_dict.append(\"loc\":\"bang\")"
   ]
  },
  {
   "cell_type": "code",
   "execution_count": 5,
   "id": "64308d7f-e82f-48ac-8421-9ff09603bfb7",
   "metadata": {},
   "outputs": [],
   "source": [
    "my_dict[\"loc\"]=\"bang\""
   ]
  },
  {
   "cell_type": "code",
   "execution_count": 6,
   "id": "850b32a5-91a0-4a22-afbf-d6e50f1e15a9",
   "metadata": {},
   "outputs": [
    {
     "data": {
      "text/plain": [
       "{'1': 'Arun', 'age': 18, 3: 'Male', 'loc': 'bang'}"
      ]
     },
     "execution_count": 6,
     "metadata": {},
     "output_type": "execute_result"
    }
   ],
   "source": [
    "my_dict"
   ]
  },
  {
   "cell_type": "code",
   "execution_count": 10,
   "id": "21d98c40-0c31-4942-bb69-8f990298d7e0",
   "metadata": {},
   "outputs": [
    {
     "name": "stdout",
     "output_type": "stream",
     "text": [
      "dict_keys(['1', 'age', 3, 'loc'])\n"
     ]
    }
   ],
   "source": [
    "print(my_dict.keys())"
   ]
  },
  {
   "cell_type": "code",
   "execution_count": 11,
   "id": "61fcd6b1-5bfd-46e0-808a-10ee98e7e283",
   "metadata": {},
   "outputs": [
    {
     "data": {
      "text/plain": [
       "dict_values(['Arun', 18, 'Male', 'bang'])"
      ]
     },
     "execution_count": 11,
     "metadata": {},
     "output_type": "execute_result"
    }
   ],
   "source": [
    "my_dict.values()"
   ]
  },
  {
   "cell_type": "code",
   "execution_count": 16,
   "id": "b61dc5e2-8762-4c9b-bb35-fc55018ace17",
   "metadata": {},
   "outputs": [
    {
     "name": "stdout",
     "output_type": "stream",
     "text": [
      "Arun\n"
     ]
    }
   ],
   "source": [
    "print(my_dict.get(\"1\",\"age\"))"
   ]
  },
  {
   "cell_type": "code",
   "execution_count": 18,
   "id": "f72ae31a-2bbf-4989-9b2c-fff6f1e3ef22",
   "metadata": {},
   "outputs": [
    {
     "name": "stdout",
     "output_type": "stream",
     "text": [
      "dict_items([('1', 'Arun'), ('age', 18), (3, 'Male'), ('loc', 'bang')])\n"
     ]
    }
   ],
   "source": [
    "print(my_dict.items())"
   ]
  },
  {
   "cell_type": "code",
   "execution_count": 20,
   "id": "4111cc3c-a017-4bf8-8734-3824e1d103c5",
   "metadata": {},
   "outputs": [
    {
     "name": "stdout",
     "output_type": "stream",
     "text": [
      "Arun\n"
     ]
    }
   ],
   "source": [
    "print(my_dict.get(\"1\",\"age\"))"
   ]
  },
  {
   "cell_type": "code",
   "execution_count": 38,
   "id": "fa08848a-5903-44a6-8741-6b0229f7aaaa",
   "metadata": {},
   "outputs": [
    {
     "name": "stdout",
     "output_type": "stream",
     "text": [
      "Hey this is the ins is      this hey text for text##  \n"
     ]
    }
   ],
   "source": [
    "# with strip function u can only remove at starting and the ending \n",
    "inp = \"\\\\\\\\\\\\Hey this is the ins is      this hey text for text##  ####\"\n",
    "new = inp.strip(\"\\\\,#\")\n",
    "print(new)"
   ]
  },
  {
   "cell_type": "code",
   "execution_count": null,
   "id": "85c44101-091a-4a3d-8a72-dbbff2352a43",
   "metadata": {},
   "outputs": [],
   "source": [
    "# calculating the frequency of the input textt\n",
    "def cal_freq(inp):\n",
    "    l1 = []\n",
    "    l1 = inp.split()\n",
    "    for i in l1:\n",
    "        print\n",
    "\n",
    "\n",
    "\n",
    "inp = \"Hey this is this was to be was be is \"\n",
    "cal_feq(inp)"
   ]
  },
  {
   "cell_type": "code",
   "execution_count": 39,
   "id": "eafcaf56-5c1f-4a1e-8631-d7b970e3c1f1",
   "metadata": {},
   "outputs": [
    {
     "name": "stdout",
     "output_type": "stream",
     "text": [
      "['this', 'is', 'the', 'string', 'that', 'Im', 'using']\n"
     ]
    }
   ],
   "source": [
    "inp = \"this is the string that Im using\"\n",
    "l1 = []\n",
    "l1 = inp.split()\n",
    "print(l1)"
   ]
  },
  {
   "cell_type": "code",
   "execution_count": 4,
   "id": "7eea3eb5-daec-4dab-b6f9-c027a3d156fe",
   "metadata": {},
   "outputs": [
    {
     "data": {
      "text/plain": [
       "22"
      ]
     },
     "execution_count": 4,
     "metadata": {},
     "output_type": "execute_result"
    }
   ],
   "source": [
    "my_dict = {\"name\": \"Arun\",\"age\": 22,\"loc\":\"Bang\"}\n",
    "my_dict[\"age\"]"
   ]
  },
  {
   "cell_type": "code",
   "execution_count": 5,
   "id": "562e80c0",
   "metadata": {},
   "outputs": [
    {
     "name": "stdout",
     "output_type": "stream",
     "text": [
      "2\n"
     ]
    }
   ],
   "source": [
    "print(len(my_dict))"
   ]
  },
  {
   "cell_type": "code",
   "execution_count": null,
   "id": "bd207c25",
   "metadata": {},
   "outputs": [],
   "source": []
  }
 ],
 "metadata": {
  "kernelspec": {
   "display_name": "Python 3 (ipykernel)",
   "language": "python",
   "name": "python3"
  },
  "language_info": {
   "codemirror_mode": {
    "name": "ipython",
    "version": 3
   },
   "file_extension": ".py",
   "mimetype": "text/x-python",
   "name": "python",
   "nbconvert_exporter": "python",
   "pygments_lexer": "ipython3",
   "version": "3.12.0"
  }
 },
 "nbformat": 4,
 "nbformat_minor": 5
}
