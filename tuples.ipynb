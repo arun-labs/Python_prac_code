{
 "cells": [
  {
   "cell_type": "code",
   "execution_count": 20,
   "id": "e57ad062-de68-4f2f-aed0-ccebdc2d9b99",
   "metadata": {},
   "outputs": [
    {
     "name": "stdout",
     "output_type": "stream",
     "text": [
      "(1, 4, 2, 4, 3, 4)\n"
     ]
    }
   ],
   "source": [
    "tup1 = (1,4,2,4,3,4)\n",
    "print (tup1)"
   ]
  },
  {
   "cell_type": "code",
   "execution_count": 12,
   "id": "110545af-1448-4db6-9e18-1a86ebb2b23b",
   "metadata": {},
   "outputs": [
    {
     "name": "stdout",
     "output_type": "stream",
     "text": [
      "3\n"
     ]
    }
   ],
   "source": [
    "print(tup1[2])"
   ]
  },
  {
   "cell_type": "code",
   "execution_count": 13,
   "id": "b7f2ef5c-9aaa-4fbb-aeb5-004216669f59",
   "metadata": {},
   "outputs": [
    {
     "ename": "AttributeError",
     "evalue": "'tuple' object has no attribute 'append'",
     "output_type": "error",
     "traceback": [
      "\u001b[1;31m---------------------------------------------------------------------------\u001b[0m",
      "\u001b[1;31mAttributeError\u001b[0m                            Traceback (most recent call last)",
      "Cell \u001b[1;32mIn[13], line 1\u001b[0m\n\u001b[1;32m----> 1\u001b[0m \u001b[43mtup1\u001b[49m\u001b[38;5;241;43m.\u001b[39;49m\u001b[43mappend\u001b[49m(\u001b[38;5;241m333\u001b[39m)\n\u001b[0;32m      2\u001b[0m \u001b[38;5;66;03m# tuples are immutable so cannot modify once created\u001b[39;00m\n",
      "\u001b[1;31mAttributeError\u001b[0m: 'tuple' object has no attribute 'append'"
     ]
    }
   ],
   "source": [
    "tup1.append(333)\n",
    "# tuples are immutable so cannot modify once created"
   ]
  },
  {
   "cell_type": "code",
   "execution_count": 14,
   "id": "68a7f675-c011-4b8b-83c0-a19348671eba",
   "metadata": {},
   "outputs": [
    {
     "name": "stdout",
     "output_type": "stream",
     "text": [
      "[1, 2, 3, 4, 333]\n"
     ]
    }
   ],
   "source": [
    "list1 = [1,2,3,4]\n",
    "list1.append(333)\n",
    "print(list1)"
   ]
  },
  {
   "cell_type": "code",
   "execution_count": 21,
   "id": "2e903b58-2947-4e2e-a914-c30571b5ed2e",
   "metadata": {},
   "outputs": [
    {
     "name": "stdout",
     "output_type": "stream",
     "text": [
      "1\n",
      "Hey\n"
     ]
    }
   ],
   "source": [
    "# To find the index of a particular number\n",
    "print(tup1.index(4))\n",
    "print(\"Hey\")"
   ]
  },
  {
   "cell_type": "code",
   "execution_count": 28,
   "id": "624be0e0-1a90-4963-b41f-8720c105e287",
   "metadata": {},
   "outputs": [
    {
     "name": "stdout",
     "output_type": "stream",
     "text": [
      "1\n",
      "2\n",
      "3\n"
     ]
    }
   ],
   "source": [
    "my_tuple = (1, 2, 3)\n",
    "x, j, z = my_tuple\n",
    "print(x)  # Output: 1\n",
    "print(j)  # Output: 2\n",
    "print(z)  # Output: 3\n"
   ]
  },
  {
   "cell_type": "code",
   "execution_count": 29,
   "id": "0a1132c3-1074-43ab-b292-48359676f9b6",
   "metadata": {},
   "outputs": [
    {
     "name": "stdout",
     "output_type": "stream",
     "text": [
      "(1, 2, 3, 4)\n"
     ]
    }
   ],
   "source": [
    "# tuple concationation\n",
    "tup1 = (1,2)\n",
    "tup2 = (3,4)\n",
    "print(tup1+tup2)"
   ]
  },
  {
   "cell_type": "code",
   "execution_count": 33,
   "id": "4fa4f8c5-ff27-4083-a25e-fea6e0688ac1",
   "metadata": {},
   "outputs": [
    {
     "name": "stdout",
     "output_type": "stream",
     "text": [
      "(1, 2, 3, 1, 2, 3, 1, 2, 3)\n",
      "\n",
      "\n"
     ]
    }
   ],
   "source": [
    "# tuple repetation\n",
    "tup1 = (1,2,3)\n",
    "print(tup1 *3)"
   ]
  },
  {
   "cell_type": "code",
   "execution_count": 38,
   "id": "010e4ee8-3229-4348-aadb-f0c0d6f318ee",
   "metadata": {},
   "outputs": [
    {
     "name": "stdout",
     "output_type": "stream",
     "text": [
      "Yes\n"
     ]
    }
   ],
   "source": [
    "# to check element here or not\n",
    "tup1 = (1,2,3,4)\n",
    "num=3\n",
    "if num in tup1:\n",
    "    print(\"Yes\")\n",
    "else:\n",
    "    print(\"No\")    "
   ]
  },
  {
   "cell_type": "code",
   "execution_count": 40,
   "id": "2a19a089-6712-4913-b0f6-89e32fbb4b76",
   "metadata": {},
   "outputs": [
    {
     "data": {
      "text/plain": [
       "5"
      ]
     },
     "execution_count": 40,
     "metadata": {},
     "output_type": "execute_result"
    }
   ],
   "source": [
    "# tuple length\n",
    "tup = (1,2,3,4,5)\n",
    "len(tup)"
   ]
  },
  {
   "cell_type": "code",
   "execution_count": 45,
   "id": "ac6e728c-0230-4869-b3ca-6796f73632f7",
   "metadata": {},
   "outputs": [
    {
     "name": "stdout",
     "output_type": "stream",
     "text": [
      "2\n"
     ]
    }
   ],
   "source": [
    "tup =(1,1,2,2,2,2,4,5,5)\n",
    "print(tup.count(5))"
   ]
  },
  {
   "cell_type": "code",
   "execution_count": 51,
   "id": "fc6ad104-b964-49cf-b3e2-1999bc162240",
   "metadata": {},
   "outputs": [
    {
     "name": "stdin",
     "output_type": "stream",
     "text": [
      "enter the list lwkfn\n"
     ]
    },
    {
     "ename": "AttributeError",
     "evalue": "'tuple' object has no attribute 'append'",
     "output_type": "error",
     "traceback": [
      "\u001b[1;31m---------------------------------------------------------------------------\u001b[0m",
      "\u001b[1;31mAttributeError\u001b[0m                            Traceback (most recent call last)",
      "Cell \u001b[1;32mIn[51], line 5\u001b[0m\n\u001b[0;32m      3\u001b[0m \u001b[38;5;28;01mfor\u001b[39;00m i \u001b[38;5;129;01min\u001b[39;00m \u001b[38;5;28mrange\u001b[39m(\u001b[38;5;241m0\u001b[39m,\u001b[38;5;241m5\u001b[39m):\n\u001b[0;32m      4\u001b[0m     inp\u001b[38;5;241m=\u001b[39m\u001b[38;5;28minput\u001b[39m(\u001b[38;5;124m\"\u001b[39m\u001b[38;5;124menter the list\u001b[39m\u001b[38;5;124m\"\u001b[39m)\n\u001b[1;32m----> 5\u001b[0m     \u001b[43mtup\u001b[49m\u001b[38;5;241;43m.\u001b[39;49m\u001b[43mappend\u001b[49m(inp)\n\u001b[0;32m      6\u001b[0m \u001b[38;5;28mprint\u001b[39m(tup)\n",
      "\u001b[1;31mAttributeError\u001b[0m: 'tuple' object has no attribute 'append'"
     ]
    }
   ],
   "source": [
    "# taking input for tuple manully while running\n",
    "tup =()\n",
    "for i in range(0,5):\n",
    "    inp=input(\"enter the list\")\n",
    "    tup.append(inp)\n",
    "print(tup)"
   ]
  },
  {
   "cell_type": "code",
   "execution_count": 50,
   "id": "4edb7b01-3110-4e69-bab2-9ba96d967182",
   "metadata": {},
   "outputs": [
    {
     "name": "stdin",
     "output_type": "stream",
     "text": [
      "enter the list kjdhf\n",
      "enter the list kefbkjb\\lkbfk\\\n",
      "enter the list lnfkenf\n",
      "enter the list lkdbfkjn\n",
      "enter the list kldbfkn\n"
     ]
    },
    {
     "name": "stdout",
     "output_type": "stream",
     "text": [
      "['kjdhf', 'kefbkjb\\\\lkbfk\\\\', 'lnfkenf', 'lkdbfkjn', 'kldbfkn']\n"
     ]
    }
   ],
   "source": [
    "l1 = []\n",
    "for i in range(0,5):\n",
    "    inp=input(\"enter the list\")\n",
    "    l1.append(inp)\n",
    "print(l1)"
   ]
  },
  {
   "cell_type": "code",
   "execution_count": 54,
   "id": "616e2162-4cd2-4eac-9bc5-c3cbf7f4a5d2",
   "metadata": {},
   "outputs": [
    {
     "name": "stdin",
     "output_type": "stream",
     "text": [
      "enter the values you want dkj,kjfb,kjfek\n"
     ]
    },
    {
     "name": "stdout",
     "output_type": "stream",
     "text": [
      "('dkj', 'kjfb', 'kjfek')\n",
      "<class 'tuple'>\n"
     ]
    }
   ],
   "source": [
    "# taking manual values in the tuple while running\n",
    "inp = str(input(\"enter the values you want\"))\n",
    "tup=tuple(inp.split(\",\"))\n",
    "print(tup)\n",
    "print(type(tup))"
   ]
  },
  {
   "cell_type": "code",
   "execution_count": 58,
   "id": "e4c1e136-86e1-404e-97e5-021248e573f2",
   "metadata": {},
   "outputs": [
    {
     "name": "stdout",
     "output_type": "stream",
     "text": [
      "arun\n",
      "tarun\n",
      "varun\n"
     ]
    }
   ],
   "source": [
    "# Tuple sorting in alphabetical order\n",
    "tup = (\"arun\",\"varun\",\"tarun\")\n",
    "sorted_tup = sorted(tup)\n",
    "for i in sorted_tup:\n",
    "    print (i)"
   ]
  },
  {
   "cell_type": "code",
   "execution_count": 63,
   "id": "2fcf507d-131c-4b51-aad0-0c6b57175563",
   "metadata": {},
   "outputs": [
    {
     "name": "stdout",
     "output_type": "stream",
     "text": [
      "12\n",
      "9\n"
     ]
    }
   ],
   "source": [
    "# printing the sum of even index numbers and odd index numbers\n",
    "tup = (1,2,3,4,5,6)\n",
    "sum_even=0\n",
    "sum_odd=0\n",
    "for i in tup:\n",
    "    if(i%2==0):\n",
    "        sum_even=sum_even+i\n",
    "    else:\n",
    "        sum_odd=sum_odd+i\n",
    "print(sum_even)\n",
    "print(sum_odd)"
   ]
  },
  {
   "cell_type": "code",
   "execution_count": 70,
   "id": "14942d43-60bf-40f9-809e-b50f3bf543f5",
   "metadata": {},
   "outputs": [
    {
     "name": "stdin",
     "output_type": "stream",
     "text": [
      "Enter the range of fibbo series you want 7\n"
     ]
    },
    {
     "name": "stdout",
     "output_type": "stream",
     "text": [
      "0\n",
      "[1, 2, 3, 5, 8, 13, 21, 34]\n"
     ]
    }
   ],
   "source": [
    "# print the fibonacci series\n",
    "def fiboo(num):\n",
    "    l1 = []\n",
    "    a,b=0,1\n",
    "    print(a)\n",
    "    sum=0\n",
    "    for i in range(a,num+1):\n",
    "        sum = a+b\n",
    "        l1.append(sum)\n",
    "        a=b\n",
    "        b=sum\n",
    "    return l1\n",
    "num = int(input(\"Enter the range of fibbo series you want\"))\n",
    "print(fiboo(num))"
   ]
  },
  {
   "cell_type": "code",
   "execution_count": null,
   "id": "923a6ca6-f0a3-4fe3-8e0a-c8670e8e5e99",
   "metadata": {},
   "outputs": [],
   "source": []
  }
 ],
 "metadata": {
  "kernelspec": {
   "display_name": "Python 3 (ipykernel)",
   "language": "python",
   "name": "python3"
  },
  "language_info": {
   "codemirror_mode": {
    "name": "ipython",
    "version": 3
   },
   "file_extension": ".py",
   "mimetype": "text/x-python",
   "name": "python",
   "nbconvert_exporter": "python",
   "pygments_lexer": "ipython3",
   "version": "3.12.0"
  }
 },
 "nbformat": 4,
 "nbformat_minor": 5
}
