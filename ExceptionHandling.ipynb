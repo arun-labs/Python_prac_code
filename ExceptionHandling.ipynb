{
 "cells": [
  {
   "cell_type": "code",
   "execution_count": 1,
   "id": "2c2f71a1-d24b-41aa-80c5-214c0ac30332",
   "metadata": {},
   "outputs": [
    {
     "name": "stdout",
     "output_type": "stream",
     "text": [
      "the num canoot be divided by zero\n"
     ]
    }
   ],
   "source": [
    "try:\n",
    "    a = 10/0\n",
    "except ZeroDivisionError:\n",
    "    print(\"the num canoot be divided by zero\")\n",
    "    "
   ]
  },
  {
   "cell_type": "code",
   "execution_count": 6,
   "id": "6ae59895-c45e-4fbc-9d13-b8d3940d2f23",
   "metadata": {},
   "outputs": [
    {
     "name": "stdout",
     "output_type": "stream",
     "text": [
      "the input provided is not in the correct format\n"
     ]
    }
   ],
   "source": [
    "try: \n",
    "    a=int(\"abc\")\n",
    "except ZeroDivisionError:\n",
    "    print(\"it cant be divided by zero\")\n",
    "except ValueError:\n",
    "    print(\"the input provided is not in the correct format\")"
   ]
  },
  {
   "cell_type": "code",
   "execution_count": 8,
   "id": "fe532e89-005c-4bf6-ab94-61e733781b54",
   "metadata": {},
   "outputs": [
    {
     "name": "stdout",
     "output_type": "stream",
     "text": [
      "Error: you age is not correct\n"
     ]
    }
   ],
   "source": [
    "custom Exception\n",
    "class InvalidAge(Exception):\n",
    "    pass\n",
    "\n",
    "try:\n",
    "    age = 13\n",
    "    if age>18:\n",
    "        print(\"allowed\")\n",
    "    else:\n",
    "        raise InvalidAge(\"you age is not correct\")\n",
    "except InvalidAge as Ia:\n",
    "    print(f\"Error: {Ia}\")\n",
    "    "
   ]
  },
  {
   "cell_type": "code",
   "execution_count": 12,
   "id": "31d2eed3-2788-4192-b4d8-33cf7b6c88d1",
   "metadata": {},
   "outputs": [
    {
     "name": "stdin",
     "output_type": "stream",
     "text": [
      "ENter the number -4\n"
     ]
    },
    {
     "name": "stdout",
     "output_type": "stream",
     "text": [
      "Error: The number should be +ve u entered -Ve\n"
     ]
    }
   ],
   "source": [
    "# Input Validation\n",
    "class InputPositiveError(Exception):\n",
    "    pass\n",
    "try:\n",
    "    inp = int(input(\"ENter the number\"))\n",
    "    if(inp<0):\n",
    "        raise InputPositiveError(\"The number should be +ve u entered -Ve\")\n",
    "    else:\n",
    "        print(\"Your number is accepted\")\n",
    "except InputPositiveError as ipe:\n",
    "    print(f\"Error: {ipe}\")\n",
    "    "
   ]
  },
  {
   "cell_type": "code",
   "execution_count": null,
   "id": "a2926c5b-afbf-40ae-8bec-a6cb0e72a769",
   "metadata": {},
   "outputs": [],
   "source": []
  }
 ],
 "metadata": {
  "kernelspec": {
   "display_name": "Python 3 (ipykernel)",
   "language": "python",
   "name": "python3"
  },
  "language_info": {
   "codemirror_mode": {
    "name": "ipython",
    "version": 3
   },
   "file_extension": ".py",
   "mimetype": "text/x-python",
   "name": "python",
   "nbconvert_exporter": "python",
   "pygments_lexer": "ipython3",
   "version": "3.12.0"
  }
 },
 "nbformat": 4,
 "nbformat_minor": 5
}
