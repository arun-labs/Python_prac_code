{
 "cells": [
  {
   "cell_type": "code",
   "execution_count": 10,
   "id": "e5ce1036-eff2-4e6c-bdd9-a42a8e67700c",
   "metadata": {},
   "outputs": [
    {
     "name": "stdout",
     "output_type": "stream",
     "text": [
      "10\n"
     ]
    },
    {
     "data": {
      "text/plain": [
       "4"
      ]
     },
     "execution_count": 10,
     "metadata": {},
     "output_type": "execute_result"
    }
   ],
   "source": [
    "str1 = \"Hello world\"\n",
    "lef =0\n",
    "rig = len(str1)-1\n",
    "print(rig)\n",
    "str1.count(\"H\")\n",
    "str1.index(\"o\")"
   ]
  },
  {
   "cell_type": "code",
   "execution_count": 12,
   "id": "304e075a-b975-491d-a41f-f5fe1e2bca03",
   "metadata": {},
   "outputs": [
    {
     "name": "stdout",
     "output_type": "stream",
     "text": [
      "dlrow olleH\n"
     ]
    }
   ],
   "source": [
    "# Reverse a String\n",
    "def rev(str):\n",
    "    lef = 0\n",
    "    rig = len(str)-1\n",
    "    l1 = list(str)\n",
    "    while lef<rig:\n",
    "        temp = l1[lef]\n",
    "        l1[lef],l1[rig] = l1[rig],temp\n",
    "        lef = lef+1\n",
    "        rig = rig -1\n",
    "    new_str = ''.join(l1)\n",
    "    return new_str\n",
    "inp = \"Hello world\"\n",
    "res = rev(inp)\n",
    "print(res)"
   ]
  },
  {
   "cell_type": "code",
   "execution_count": 14,
   "id": "7e49cabc-7c8c-4aa2-9408-f2ea2adb4516",
   "metadata": {},
   "outputs": [],
   "source": [
    "# //////////////////////////"
   ]
  },
  {
   "cell_type": "code",
   "execution_count": 6,
   "id": "2c115bde-34d8-42d4-895c-b3770020979f",
   "metadata": {},
   "outputs": [
    {
     "name": "stdin",
     "output_type": "stream",
     "text": [
      "Enter the string hfiuefncne\n"
     ]
    },
    {
     "name": "stdout",
     "output_type": "stream",
     "text": [
      "f\n"
     ]
    }
   ],
   "source": [
    "# Finding the first repeating char in string\n",
    "def non_rep(inp):\n",
    "    l1 = list(inp)\n",
    "    i=0\n",
    "    while i<len(l1):\n",
    "        j=i+1\n",
    "        while j<len(l1):\n",
    "            if(l1[i] == l1[j]):\n",
    "                return l1[i]\n",
    "            j=j+1\n",
    "        i=i+1\n",
    "\n",
    "inp = str(input(\"Enter the string\"))\n",
    "res=non_rep(inp)\n",
    "print(res)"
   ]
  },
  {
   "cell_type": "code",
   "execution_count": 7,
   "id": "de1d25d7-c108-4ac0-9170-bc9ffaf01327",
   "metadata": {},
   "outputs": [],
   "source": [
    "# ///////////////////////"
   ]
  },
  {
   "cell_type": "code",
   "execution_count": 20,
   "id": "7c469a30-fce0-42c9-8215-4e9e8729f740",
   "metadata": {},
   "outputs": [
    {
     "name": "stdin",
     "output_type": "stream",
     "text": [
      "Enter the string1 arun\n",
      "Enter the string2 nura\n"
     ]
    },
    {
     "name": "stdout",
     "output_type": "stream",
     "text": [
      "Yes\n"
     ]
    }
   ],
   "source": [
    "# checking the string are anagrams or not\n",
    "def check_anag(inp1,inp2):\n",
    "    if(len(inp1)==len(inp2)):\n",
    "        l1 = list(inp1)\n",
    "        l2 = list(inp2)\n",
    "        count = 0\n",
    "        i=0\n",
    "        while i<len(l1):\n",
    "            j=0\n",
    "            while j<len(l2):\n",
    "                if(l1[i]==l2[j]):\n",
    "                    count = count+1             \n",
    "                    break\n",
    "                j = j+1\n",
    "            i=i+1\n",
    "        if(count==len(l1)):\n",
    "            return True\n",
    "        else:\n",
    "            return False\n",
    "inp1 = str(input(\"Enter the string1\"))\n",
    "inp2 = str(input(\"Enter the string2\"))\n",
    "check=check_anag(inp1,inp2)\n",
    "if(check == True):\n",
    "    print(\"Yes\")\n",
    "else:\n",
    "    print(\"No\")"
   ]
  },
  {
   "cell_type": "code",
   "execution_count": 24,
   "id": "bd1c4349-fbc2-44fc-aa0e-818138b8aeb6",
   "metadata": {},
   "outputs": [
    {
     "name": "stdin",
     "output_type": "stream",
     "text": [
      "enter the string madam\n"
     ]
    },
    {
     "name": "stdout",
     "output_type": "stream",
     "text": [
      "yes\n"
     ]
    }
   ],
   "source": [
    "# check if palindrome\n",
    "def check_palin(inp):\n",
    "    dup = inp[::-1]\n",
    "    if(inp==dup):\n",
    "        return True\n",
    "    else:\n",
    "        return False\n",
    "\n",
    "inp = str(input(\"enter the string\"))\n",
    "res = check_palin(inp)\n",
    "if(res == True):\n",
    "    print(\"yes\")\n",
    "else:\n",
    "    print(\"No\")"
   ]
  },
  {
   "cell_type": "code",
   "execution_count": 21,
   "id": "5ea3102c-4138-4ef2-9cc9-a0eb3de9182f",
   "metadata": {},
   "outputs": [
    {
     "name": "stdout",
     "output_type": "stream",
     "text": [
      "olleh\n"
     ]
    }
   ],
   "source": [
    "inp = \"hello\"\n",
    "dup = inp[::-1]\n",
    "print(dup)"
   ]
  },
  {
   "cell_type": "code",
   "execution_count": 27,
   "id": "c170a4c1-8196-4add-b611-8b752fc107b5",
   "metadata": {},
   "outputs": [
    {
     "name": "stdout",
     "output_type": "stream",
     "text": [
      "5\n",
      "4\n",
      "3\n",
      "2\n",
      "1\n"
     ]
    }
   ],
   "source": [
    "fact =5\n",
    "for i in range(fact,0,-1):\n",
    "    print(i)"
   ]
  },
  {
   "cell_type": "code",
   "execution_count": 54,
   "id": "81ef390e-24f5-4a20-9ff2-030b124d0a07",
   "metadata": {},
   "outputs": [
    {
     "name": "stdin",
     "output_type": "stream",
     "text": [
      "Enter the input number 9\n"
     ]
    },
    {
     "name": "stdout",
     "output_type": "stream",
     "text": [
      "362880\n"
     ]
    }
   ],
   "source": [
    "# Factorial calculation\n",
    "def fact(num):\n",
    "    dup = num\n",
    "    fact=1\n",
    "    for i in range(num,0,-1):\n",
    "       fact = fact*i\n",
    "    return fact\n",
    "num = int(input(\"Enter the input number\"))\n",
    "res=fact(num)\n",
    "print(res)"
   ]
  },
  {
   "cell_type": "code",
   "execution_count": 2,
   "id": "8f626fb6-9369-468e-bdf0-0fda381db951",
   "metadata": {},
   "outputs": [
    {
     "name": "stdin",
     "output_type": "stream",
     "text": [
      "Enter the size of the list 5\n",
      "Enter the number 2\n",
      "Enter the number 34\n",
      "Enter the number 2165\n",
      "Enter the number 2\n",
      "Enter the number 5\n"
     ]
    },
    {
     "name": "stdout",
     "output_type": "stream",
     "text": [
      "[2, 2, 5, 34, 2165]\n"
     ]
    }
   ],
   "source": [
    "# Binary search\n",
    "l1 = []\n",
    "size = int(input(\"Enter the size of the list\"))\n",
    "for i in range(0,size):\n",
    "           num = int(input(\"Enter the number\"))\n",
    "           l1.append(num)\n",
    "# print(l1)\n",
    "\n",
    "l2 = sorted(l1)\n",
    "# print(l1)\n",
    "\n",
    "find = int(input(\"Enter the number you want to find out\"))\n",
    "start = 0\n",
    "end = len(l1)-1\n",
    "while i< len(l1):\n",
    "    if find>d= len(l2)"
   ]
  },
  {
   "cell_type": "code",
   "execution_count": 22,
   "id": "fa386dcf-2d3f-46ae-9d79-1d94c0b6cd86",
   "metadata": {},
   "outputs": [
    {
     "name": "stdout",
     "output_type": "stream",
     "text": [
      "10\n",
      "9.5\n"
     ]
    }
   ],
   "source": [
    "# rounding of the number complety depends on the digit near to it\n",
    "# example if its 4.3333 it will give 4 and if 4.666 it will give 5\n",
    "# but if its exactly .5 then after dividing it will see the left of the digit is even or odd \n",
    "# if its even it will go down and if its odd it will go up\n",
    "# example if its 13.5 = 14 and if its 4.5 = 4\n",
    "a=19/2\n",
    "print(round(a))\n",
    "print(a)"
   ]
  },
  {
   "cell_type": "code",
   "execution_count": 24,
   "id": "637a1ff1-15b9-4125-b372-6f9715d1f019",
   "metadata": {},
   "outputs": [
    {
     "data": {
      "text/plain": [
       "5"
      ]
     },
     "execution_count": 24,
     "metadata": {},
     "output_type": "execute_result"
    }
   ],
   "source": [
    "3//2\n",
    "# l1 =[1,2,3,4,5]\n",
    "# len(l1)"
   ]
  },
  {
   "cell_type": "code",
   "execution_count": 23,
   "id": "a13c79b7-55be-4b76-a4a2-a53c12caeebf",
   "metadata": {},
   "outputs": [
    {
     "data": {
      "text/plain": [
       "14"
      ]
     },
     "execution_count": 23,
     "metadata": {},
     "output_type": "execute_result"
    }
   ],
   "source": [
    "round(13.5)"
   ]
  },
  {
   "cell_type": "code",
   "execution_count": 9,
   "id": "729f68d8-1fe4-4aad-b5b2-ea8d488689f6",
   "metadata": {},
   "outputs": [
    {
     "name": "stdin",
     "output_type": "stream",
     "text": [
      "Enter the string Madam\n"
     ]
    },
    {
     "name": "stdout",
     "output_type": "stream",
     "text": [
      "Yes its a palindrome\n"
     ]
    }
   ],
   "source": [
    "def palin_str(str1):\n",
    "    s1 = str1.lower()\n",
    "    lef = 0\n",
    "    rig = len(s1)-1\n",
    "    while lef<rig:\n",
    "        if(s1[lef]!=s1[rig]):\n",
    "            return False\n",
    "\n",
    "        lef = lef+1\n",
    "        rig = rig-1\n",
    "    return True\n",
    "\n",
    "str1 = str(input(\"Enter the string\"))\n",
    "if(palin_str(str1)):\n",
    "    print(\"Yes its a palindrome\")\n",
    "else:\n",
    "    print(\"No not a palindrome\")"
   ]
  },
  {
   "cell_type": "code",
   "execution_count": 17,
   "id": "f40a9bc4-f557-40bb-a9d5-47a51b91f4b7",
   "metadata": {},
   "outputs": [
    {
     "name": "stdin",
     "output_type": "stream",
     "text": [
      "Enter the number  1634\n"
     ]
    },
    {
     "name": "stdout",
     "output_type": "stream",
     "text": [
      "no\n"
     ]
    }
   ],
   "source": [
    "#Amstrong Number\n",
    "import math\n",
    "def find_amst(num1):\n",
    "    temp =num1\n",
    "    sum = 0\n",
    "    while temp>0:\n",
    "        rem = temp%10\n",
    "        sum = sum+ math.pow(rem,3)\n",
    "        temp = temp//10\n",
    "    if(sum==num1):\n",
    "        return True\n",
    "    else:\n",
    "        return False\n",
    "        \n",
    "num1  = int(input(\"Enter the number \"))\n",
    "if(find_amst(num1)):\n",
    "    print(\"Yes\")\n",
    "else:\n",
    "    print(\"no\")"
   ]
  },
  {
   "cell_type": "code",
   "execution_count": 5,
   "id": "e3c73a3e-f0bc-4fae-8e75-24c0fdf601cc",
   "metadata": {},
   "outputs": [
    {
     "name": "stdout",
     "output_type": "stream",
     "text": [
      "6\n"
     ]
    }
   ],
   "source": [
    "def count_words(sentence):\n",
    "    words = sentence.split()\n",
    "    return len(words)\n",
    "inp1 = \"This is a sample sentence and.\"\n",
    "word_count = count_words(inp1)\n",
    "print(word_count)  \n"
   ]
  },
  {
   "cell_type": "code",
   "execution_count": 19,
   "id": "3fc41725-769a-4407-af0e-c3cad779baae",
   "metadata": {},
   "outputs": [
    {
     "name": "stdout",
     "output_type": "stream",
     "text": [
      "[3, 4]\n",
      "[1, 2, 3, 4, 5]\n"
     ]
    }
   ],
   "source": [
    "#Remove duplicates\n",
    "def rem_dup(l1):\n",
    "    i=0\n",
    "    res = l1\n",
    "    l3=[]\n",
    "    for i in range(i,len(l1)):\n",
    "        j=i+1\n",
    "        for j in range(j,len(l1)):\n",
    "            if(l1[i]==l1[j]):\n",
    "                l3.append(i)\n",
    "                res.pop(j)\n",
    "    print(l3)\n",
    "    return res\n",
    "l1 = [1,2,3,4,5,5,4]\n",
    "l2 = rem_dup(l1)\n",
    "print(l2)"
   ]
  },
  {
   "cell_type": "code",
   "execution_count": 12,
   "id": "fb5d9e9d-9906-48f7-87e1-9e8a781d05e5",
   "metadata": {},
   "outputs": [
    {
     "name": "stdout",
     "output_type": "stream",
     "text": [
      "[1, 2, 3]\n"
     ]
    }
   ],
   "source": [
    "l1 = [1,2,3,40]\n",
    "l2 = l1.copy()\n",
    "l2.pop(3)\n",
    "print(l2)"
   ]
  },
  {
   "cell_type": "code",
   "execution_count": 23,
   "id": "071278e6-a4f9-4142-87d9-17566404bcc1",
   "metadata": {},
   "outputs": [
    {
     "name": "stdin",
     "output_type": "stream",
     "text": [
      "Enter the starting of the number 1\n"
     ]
    },
    {
     "ename": "TypeError",
     "evalue": "can only concatenate list (not \"int\") to list",
     "output_type": "error",
     "traceback": [
      "\u001b[1;31m---------------------------------------------------------------------------\u001b[0m",
      "\u001b[1;31mTypeError\u001b[0m                                 Traceback (most recent call last)",
      "Cell \u001b[1;32mIn[23], line 16\u001b[0m\n\u001b[0;32m     14\u001b[0m numbers \u001b[38;5;241m=\u001b[39m [\u001b[38;5;241m1\u001b[39m,\u001b[38;5;241m2\u001b[39m,\u001b[38;5;241m3\u001b[39m,\u001b[38;5;241m4\u001b[39m,\u001b[38;5;241m5\u001b[39m,\u001b[38;5;241m7\u001b[39m,\u001b[38;5;241m8\u001b[39m,\u001b[38;5;241m9\u001b[39m]\n\u001b[0;32m     15\u001b[0m start \u001b[38;5;241m=\u001b[39m \u001b[38;5;28mint\u001b[39m(\u001b[38;5;28minput\u001b[39m(\u001b[38;5;124m\"\u001b[39m\u001b[38;5;124mEnter the starting of the number\u001b[39m\u001b[38;5;124m\"\u001b[39m))\n\u001b[1;32m---> 16\u001b[0m res \u001b[38;5;241m=\u001b[39m \u001b[43mfind_missing\u001b[49m\u001b[43m(\u001b[49m\u001b[43mnumbers\u001b[49m\u001b[43m,\u001b[49m\u001b[43mstart\u001b[49m\u001b[43m)\u001b[49m\n\u001b[0;32m     17\u001b[0m \u001b[38;5;28mprint\u001b[39m(res)\n",
      "Cell \u001b[1;32mIn[23], line 7\u001b[0m, in \u001b[0;36mfind_missing\u001b[1;34m(number, start)\u001b[0m\n\u001b[0;32m      5\u001b[0m count \u001b[38;5;241m=\u001b[39m\u001b[38;5;241m0\u001b[39m \n\u001b[0;32m      6\u001b[0m \u001b[38;5;28;01mfor\u001b[39;00m start \u001b[38;5;129;01min\u001b[39;00m \u001b[38;5;28mrange\u001b[39m(start,number[last\u001b[38;5;241m-\u001b[39m\u001b[38;5;241m1\u001b[39m]):\n\u001b[1;32m----> 7\u001b[0m     temp \u001b[38;5;241m=\u001b[39m \u001b[43mnumber\u001b[49m\u001b[38;5;241;43m+\u001b[39;49m\u001b[38;5;241;43m1\u001b[39;49m\n\u001b[0;32m      8\u001b[0m     \u001b[38;5;28;01mif\u001b[39;00m((start\u001b[38;5;241m+\u001b[39m\u001b[38;5;241m1\u001b[39m)\u001b[38;5;241m==\u001b[39mtemp):\n\u001b[0;32m      9\u001b[0m         count\u001b[38;5;241m=\u001b[39mcount\u001b[38;5;241m+\u001b[39m\u001b[38;5;241m1\u001b[39m\n",
      "\u001b[1;31mTypeError\u001b[0m: can only concatenate list (not \"int\") to list"
     ]
    }
   ],
   "source": [
    "#Finding a missing number in range\n",
    "def find_missing(number,start):\n",
    "    last = len(number)\n",
    "    res_li = []\n",
    "    count =0 \n",
    "    for num in range(start,number[last-1]):\n",
    "        temp = start+1\n",
    "        if((start+1)==temp):\n",
    "            count=count+1\n",
    "        else:\n",
    "            res_li.append(start)\n",
    "    return res_li\n",
    "\n",
    "numbers = [1,2,3,4,5,7,8,9]\n",
    "start = int(input(\"Enter the starting of the number\"))\n",
    "res = find_missing(numbers,start)\n",
    "print(res)"
   ]
  },
  {
   "cell_type": "code",
   "execution_count": 22,
   "id": "2bd90d56-0579-4318-8aac-8ee706b97c26",
   "metadata": {},
   "outputs": [
    {
     "name": "stdout",
     "output_type": "stream",
     "text": [
      "66\n"
     ]
    }
   ],
   "source": [
    "l1 = [1,2,3,4,5,56,66]\n",
    "l2 = len(l1)\n",
    "print(l1[l2-1])"
   ]
  },
  {
   "cell_type": "code",
   "execution_count": null,
   "id": "b43ffe04-8953-4e0a-b3c2-f0b6a1e65423",
   "metadata": {},
   "outputs": [],
   "source": []
  }
 ],
 "metadata": {
  "kernelspec": {
   "display_name": "Python 3 (ipykernel)",
   "language": "python",
   "name": "python3"
  },
  "language_info": {
   "codemirror_mode": {
    "name": "ipython",
    "version": 3
   },
   "file_extension": ".py",
   "mimetype": "text/x-python",
   "name": "python",
   "nbconvert_exporter": "python",
   "pygments_lexer": "ipython3",
   "version": "3.12.0"
  }
 },
 "nbformat": 4,
 "nbformat_minor": 5
}
