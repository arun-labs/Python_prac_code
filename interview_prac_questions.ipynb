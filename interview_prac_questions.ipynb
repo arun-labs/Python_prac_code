{
 "cells": [
  {
   "cell_type": "code",
   "execution_count": 55,
   "id": "a4e8a4b9-6e26-44cd-a633-8ef8c51d0f92",
   "metadata": {},
   "outputs": [
    {
     "ename": "TypeError",
     "evalue": "'str' object does not support item assignment",
     "output_type": "error",
     "traceback": [
      "\u001b[1;31m---------------------------------------------------------------------------\u001b[0m",
      "\u001b[1;31mTypeError\u001b[0m                                 Traceback (most recent call last)",
      "Cell \u001b[1;32mIn[55], line 13\u001b[0m\n\u001b[0;32m     11\u001b[0m     \u001b[38;5;28;01mreturn\u001b[39;00m str1\n\u001b[0;32m     12\u001b[0m str1 \u001b[38;5;241m=\u001b[39m \u001b[38;5;124m\"\u001b[39m\u001b[38;5;124mHello world\u001b[39m\u001b[38;5;124m\"\u001b[39m\n\u001b[1;32m---> 13\u001b[0m dup \u001b[38;5;241m=\u001b[39m \u001b[43mrev\u001b[49m\u001b[43m(\u001b[49m\u001b[43mstr1\u001b[49m\u001b[43m)\u001b[49m\n\u001b[0;32m     14\u001b[0m \u001b[38;5;28mprint\u001b[39m(dup)\n",
      "Cell \u001b[1;32mIn[55], line 7\u001b[0m, in \u001b[0;36mrev\u001b[1;34m(str1)\u001b[0m\n\u001b[0;32m      5\u001b[0m \u001b[38;5;28;01mwhile\u001b[39;00m lef\u001b[38;5;241m<\u001b[39mrig:\n\u001b[0;32m      6\u001b[0m     temp \u001b[38;5;241m=\u001b[39m str1[lef]\n\u001b[1;32m----> 7\u001b[0m     \u001b[43mstr1\u001b[49m\u001b[43m[\u001b[49m\u001b[43mlef\u001b[49m\u001b[43m]\u001b[49m\u001b[38;5;241m=\u001b[39mstr1[rig]\n\u001b[0;32m      8\u001b[0m     str1[rig]\u001b[38;5;241m=\u001b[39mtemp\n\u001b[0;32m      9\u001b[0m     lef\u001b[38;5;241m=\u001b[39mlef\u001b[38;5;241m+\u001b[39m\u001b[38;5;241m1\u001b[39m\n",
      "\u001b[1;31mTypeError\u001b[0m: 'str' object does not support item assignment"
     ]
    }
   ],
   "source": [
    "\n",
    "def rev(str1):\n",
    "    lef =0\n",
    "    rig = len(str1)-1\n",
    "    \n",
    "    while lef<rig:\n",
    "        temp = str1[lef]\n",
    "        str1[lef]=str1[rig]\n",
    "        str1[rig]=temp\n",
    "        lef=lef+1\n",
    "        rig=rig-1\n",
    "    return str1\n",
    "str1 = \"Hello world\"\n",
    "dup = rev(str1)\n",
    "print(dup)"
   ]
  },
  {
   "cell_type": "code",
   "execution_count": 10,
   "id": "e5ce1036-eff2-4e6c-bdd9-a42a8e67700c",
   "metadata": {},
   "outputs": [
    {
     "name": "stdout",
     "output_type": "stream",
     "text": [
      "10\n"
     ]
    },
    {
     "data": {
      "text/plain": [
       "4"
      ]
     },
     "execution_count": 10,
     "metadata": {},
     "output_type": "execute_result"
    }
   ],
   "source": [
    "str1 = \"Hello world\"\n",
    "lef =0\n",
    "rig = len(str1)-1\n",
    "print(rig)\n",
    "str1.count(\"H\")\n",
    "str1.index(\"o\")"
   ]
  },
  {
   "cell_type": "code",
   "execution_count": 12,
   "id": "304e075a-b975-491d-a41f-f5fe1e2bca03",
   "metadata": {},
   "outputs": [
    {
     "name": "stdout",
     "output_type": "stream",
     "text": [
      "dlrow olleH\n"
     ]
    }
   ],
   "source": [
    "# Reverse a String\n",
    "def rev(str):\n",
    "    lef = 0\n",
    "    rig = len(str)-1\n",
    "    l1 = list(str)\n",
    "    while lef<rig:\n",
    "        temp = l1[lef]\n",
    "        l1[lef],l1[rig] = l1[rig],temp\n",
    "        lef = lef+1\n",
    "        rig = rig -1\n",
    "    new_str = ''.join(l1)\n",
    "    return new_str\n",
    "inp = \"Hello world\"\n",
    "res = rev(inp)\n",
    "print(res)"
   ]
  },
  {
   "cell_type": "code",
   "execution_count": 14,
   "id": "7e49cabc-7c8c-4aa2-9408-f2ea2adb4516",
   "metadata": {},
   "outputs": [],
   "source": [
    "# //////////////////////////"
   ]
  },
  {
   "cell_type": "code",
   "execution_count": 6,
   "id": "2c115bde-34d8-42d4-895c-b3770020979f",
   "metadata": {},
   "outputs": [
    {
     "name": "stdin",
     "output_type": "stream",
     "text": [
      "Enter the string hfiuefncne\n"
     ]
    },
    {
     "name": "stdout",
     "output_type": "stream",
     "text": [
      "f\n"
     ]
    }
   ],
   "source": [
    "# Finding the first repeating char in string\n",
    "def non_rep(inp):\n",
    "    l1 = list(inp)\n",
    "    i=0\n",
    "    while i<len(l1):\n",
    "        j=i+1\n",
    "        while j<len(l1):\n",
    "            if(l1[i] == l1[j]):\n",
    "                return l1[i]\n",
    "            j=j+1\n",
    "        i=i+1\n",
    "\n",
    "inp = str(input(\"Enter the string\"))\n",
    "res=non_rep(inp)\n",
    "print(res)"
   ]
  },
  {
   "cell_type": "code",
   "execution_count": 7,
   "id": "de1d25d7-c108-4ac0-9170-bc9ffaf01327",
   "metadata": {},
   "outputs": [],
   "source": [
    "# ///////////////////////"
   ]
  },
  {
   "cell_type": "code",
   "execution_count": 20,
   "id": "7c469a30-fce0-42c9-8215-4e9e8729f740",
   "metadata": {},
   "outputs": [
    {
     "name": "stdin",
     "output_type": "stream",
     "text": [
      "Enter the string1 arun\n",
      "Enter the string2 nura\n"
     ]
    },
    {
     "name": "stdout",
     "output_type": "stream",
     "text": [
      "Yes\n"
     ]
    }
   ],
   "source": [
    "# checking the string are anagrams or not\n",
    "def check_anag(inp1,inp2):\n",
    "    if(len(inp1)==len(inp2)):\n",
    "        l1 = list(inp1)\n",
    "        l2 = list(inp2)\n",
    "        count = 0\n",
    "        i=0\n",
    "        while i<len(l1):\n",
    "            j=0\n",
    "            while j<len(l2):\n",
    "                if(l1[i]==l2[j]):\n",
    "                    count = count+1             \n",
    "                    break\n",
    "                j = j+1\n",
    "            i=i+1\n",
    "        if(count==len(l1)):\n",
    "            return True\n",
    "        else:\n",
    "            return False\n",
    "inp1 = str(input(\"Enter the string1\"))\n",
    "inp2 = str(input(\"Enter the string2\"))\n",
    "check=check_anag(inp1,inp2)\n",
    "if(check == True):\n",
    "    print(\"Yes\")\n",
    "else:\n",
    "    print(\"No\")"
   ]
  },
  {
   "cell_type": "code",
   "execution_count": 24,
   "id": "bd1c4349-fbc2-44fc-aa0e-818138b8aeb6",
   "metadata": {},
   "outputs": [
    {
     "name": "stdin",
     "output_type": "stream",
     "text": [
      "enter the string madam\n"
     ]
    },
    {
     "name": "stdout",
     "output_type": "stream",
     "text": [
      "yes\n"
     ]
    }
   ],
   "source": [
    "# check if palindrome\n",
    "def check_palin(inp):\n",
    "    dup = inp[::-1]\n",
    "    if(inp==dup):\n",
    "        return True\n",
    "    else:\n",
    "        return False\n",
    "\n",
    "inp = str(input(\"enter the string\"))\n",
    "res = check_palin(inp)\n",
    "if(res == True):\n",
    "    print(\"yes\")\n",
    "else:\n",
    "    print(\"No\")"
   ]
  },
  {
   "cell_type": "code",
   "execution_count": 21,
   "id": "5ea3102c-4138-4ef2-9cc9-a0eb3de9182f",
   "metadata": {},
   "outputs": [
    {
     "name": "stdout",
     "output_type": "stream",
     "text": [
      "olleh\n"
     ]
    }
   ],
   "source": [
    "inp = \"hello\"\n",
    "dup = inp[::-1]\n",
    "print(dup)"
   ]
  },
  {
   "cell_type": "code",
   "execution_count": 27,
   "id": "c170a4c1-8196-4add-b611-8b752fc107b5",
   "metadata": {},
   "outputs": [
    {
     "name": "stdout",
     "output_type": "stream",
     "text": [
      "5\n",
      "4\n",
      "3\n",
      "2\n",
      "1\n"
     ]
    }
   ],
   "source": [
    "fact =5\n",
    "for i in range(fact,0,-1):\n",
    "    print(i)"
   ]
  },
  {
   "cell_type": "code",
   "execution_count": 54,
   "id": "81ef390e-24f5-4a20-9ff2-030b124d0a07",
   "metadata": {},
   "outputs": [
    {
     "name": "stdin",
     "output_type": "stream",
     "text": [
      "Enter the input number 9\n"
     ]
    },
    {
     "name": "stdout",
     "output_type": "stream",
     "text": [
      "362880\n"
     ]
    }
   ],
   "source": [
    "# Factorial calculation\n",
    "def fact(num):\n",
    "    dup = num\n",
    "    fact=1\n",
    "    for i in range(num,0,-1):\n",
    "       fact = fact*i\n",
    "    return fact\n",
    "num = int(input(\"Enter the input number\"))\n",
    "res=fact(num)\n",
    "print(res)"
   ]
  },
  {
   "cell_type": "code",
   "execution_count": null,
   "id": "8f626fb6-9369-468e-bdf0-0fda381db951",
   "metadata": {},
   "outputs": [],
   "source": []
  }
 ],
 "metadata": {
  "kernelspec": {
   "display_name": "Python 3 (ipykernel)",
   "language": "python",
   "name": "python3"
  },
  "language_info": {
   "codemirror_mode": {
    "name": "ipython",
    "version": 3
   },
   "file_extension": ".py",
   "mimetype": "text/x-python",
   "name": "python",
   "nbconvert_exporter": "python",
   "pygments_lexer": "ipython3",
   "version": "3.12.0"
  }
 },
 "nbformat": 4,
 "nbformat_minor": 5
}
