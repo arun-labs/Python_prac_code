{
 "cells": [
  {
   "cell_type": "code",
   "execution_count": 30,
   "id": "0d685173-d243-4569-852e-e87a9ff9e3c3",
   "metadata": {},
   "outputs": [
    {
     "name": "stdout",
     "output_type": "stream",
     "text": [
      "6\n"
     ]
    }
   ],
   "source": [
    "# we use import keyword to import any library\n",
    "import random\n",
    "ran_num = random.randint(1,10)\n",
    "print(ran_num)"
   ]
  },
  {
   "cell_type": "code",
   "execution_count": null,
   "id": "829ee8ae-e48f-45c0-a3db-a25031cf0abb",
   "metadata": {},
   "outputs": [],
   "source": [
    "#To get the floating random values we use random.random()"
   ]
  },
  {
   "cell_type": "code",
   "execution_count": 29,
   "id": "adbfcfd7-6e10-45dc-bd9a-f3b2addd172e",
   "metadata": {},
   "outputs": [
    {
     "name": "stdout",
     "output_type": "stream",
     "text": [
      "0.32173295015831704\n"
     ]
    }
   ],
   "source": [
    "float_ran = random.random()\n",
    "print(float_ran)"
   ]
  },
  {
   "cell_type": "code",
   "execution_count": 36,
   "id": "553bdc3a-c4a0-41f4-8e69-21ab29a3dc4d",
   "metadata": {},
   "outputs": [
    {
     "name": "stdout",
     "output_type": "stream",
     "text": [
      "Heads\n",
      "0\n"
     ]
    }
   ],
   "source": [
    "# Prog to generate Heads or tails\n",
    "rand_val = random.randint(0,1)\n",
    "if(rand_val)==0:\n",
    "    print(\"Heads\")\n",
    "else:\n",
    "    print(\"False\")\n",
    "print(rand_val)"
   ]
  },
  {
   "cell_type": "code",
   "execution_count": 37,
   "id": "6a6c6686-f451-4d20-a022-939793ab2341",
   "metadata": {},
   "outputs": [
    {
     "ename": "NameError",
     "evalue": "name 'names_string' is not defined",
     "output_type": "error",
     "traceback": [
      "\u001b[1;31m---------------------------------------------------------------------------\u001b[0m",
      "\u001b[1;31mNameError\u001b[0m                                 Traceback (most recent call last)",
      "Cell \u001b[1;32mIn[37], line 1\u001b[0m\n\u001b[1;32m----> 1\u001b[0m names \u001b[38;5;241m=\u001b[39m \u001b[43mnames_string\u001b[49m\u001b[38;5;241m.\u001b[39msplit(\u001b[38;5;124m\"\u001b[39m\u001b[38;5;124m,\u001b[39m\u001b[38;5;124m\"\u001b[39m)\n\u001b[0;32m      2\u001b[0m num_items \u001b[38;5;241m=\u001b[39m \u001b[38;5;28mlen\u001b[39m(names)\n\u001b[0;32m      3\u001b[0m random_choice \u001b[38;5;241m=\u001b[39m random\u001b[38;5;241m.\u001b[39mrandint(\u001b[38;5;241m0\u001b[39m,num_items\u001b[38;5;241m-\u001b[39m\u001b[38;5;241m1\u001b[39m)\n",
      "\u001b[1;31mNameError\u001b[0m: name 'names_string' is not defined"
     ]
    }
   ],
   "source": [
    "names = names_string.split(\",\")\n",
    "num_items = len(names)\n",
    "random_choice = random.randint(0,num_items-1)\n",
    "pay_person = names[random_choice]\n",
    "print(pay_person)"
   ]
  },
  {
   "cell_type": "code",
   "execution_count": 42,
   "id": "59ba1139-1a30-4cc5-9069-6b6e503c1144",
   "metadata": {},
   "outputs": [
    {
     "name": "stdout",
     "output_type": "stream",
     "text": [
      "809\n",
      "5\n",
      "161.8\n"
     ]
    }
   ],
   "source": [
    "# calculating heights their average and number of students = []\n",
    "height = [171,163,175,120,180]\n",
    "# print(len(height))\n",
    "sum=0\n",
    "for i in height:\n",
    "    sum=sum+i\n",
    "print(sum)\n",
    "total = len(height)\n",
    "avg = sum/total\n",
    "print(total)\n",
    "print(avg)"
   ]
  },
  {
   "cell_type": "code",
   "execution_count": 44,
   "id": "58e17885-4d72-4f01-9869-ca4038e33667",
   "metadata": {},
   "outputs": [
    {
     "name": "stdout",
     "output_type": "stream",
     "text": [
      "1\n",
      "2\n",
      "3\n",
      "4\n"
     ]
    }
   ],
   "source": [
    "for i in range(1,5):\n",
    "    print(i)"
   ]
  },
  {
   "cell_type": "code",
   "execution_count": 45,
   "id": "3efa8e22-6e3f-4997-8952-5af93c9b388f",
   "metadata": {},
   "outputs": [
    {
     "name": "stdout",
     "output_type": "stream",
     "text": [
      "1\n",
      "4\n",
      "7\n",
      "10\n",
      "13\n"
     ]
    }
   ],
   "source": [
    "for i in range(1,15,3):\n",
    "    print(i)"
   ]
  },
  {
   "cell_type": "code",
   "execution_count": 47,
   "id": "487df067-6fdd-45e1-b319-5494eb339b23",
   "metadata": {},
   "outputs": [
    {
     "name": "stdout",
     "output_type": "stream",
     "text": [
      "30\n"
     ]
    }
   ],
   "source": [
    "# Adding of even numbers\n",
    "sum = 0\n",
    "for i in range(0,11,2):\n",
    "    sum=sum+i\n",
    "print(sum)   "
   ]
  },
  {
   "cell_type": "code",
   "execution_count": 55,
   "id": "a7d4275f-20ff-4567-83a6-cf153398b239",
   "metadata": {},
   "outputs": [
    {
     "name": "stdout",
     "output_type": "stream",
     "text": [
      "1\n",
      "2\n",
      "Buzz\n",
      "4\n",
      "Fizz\n",
      "Buzz\n",
      "7\n",
      "8\n",
      "Buzz\n",
      "Fizz\n",
      "11\n",
      "Buzz\n",
      "13\n",
      "14\n",
      "BuzzFizz\n"
     ]
    }
   ],
   "source": [
    "# program for fizz buzz game\n",
    "for i in range(1,16):\n",
    "    if i%3==0 and i%5==0:\n",
    "        print(\"BuzzFizz\")\n",
    "\n",
    "    elif(i%3==0):\n",
    "        print(\"Buzz\")\n",
    "    elif(i%5==0):\n",
    "        print(\"Fizz\")\n",
    "    else:\n",
    "        print(i)"
   ]
  },
  {
   "cell_type": "code",
   "execution_count": null,
   "id": "f5ee70da-764b-482b-82cd-7738968c92cd",
   "metadata": {},
   "outputs": [],
   "source": []
  }
 ],
 "metadata": {
  "kernelspec": {
   "display_name": "Python 3 (ipykernel)",
   "language": "python",
   "name": "python3"
  },
  "language_info": {
   "codemirror_mode": {
    "name": "ipython",
    "version": 3
   },
   "file_extension": ".py",
   "mimetype": "text/x-python",
   "name": "python",
   "nbconvert_exporter": "python",
   "pygments_lexer": "ipython3",
   "version": "3.12.0"
  }
 },
 "nbformat": 4,
 "nbformat_minor": 5
}
