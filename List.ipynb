{
 "cells": [
  {
   "cell_type": "code",
   "execution_count": 7,
   "id": "0f3f7e1b-2fc9-482e-a397-1323c1d37dd2",
   "metadata": {},
   "outputs": [
    {
     "name": "stdin",
     "output_type": "stream",
     "text": [
      "Enter the size of the list 6\n",
      "Enter the numer at 1 1\n",
      "Enter the numer at 2 2\n",
      "Enter the numer at 3 4\n",
      "Enter the numer at 4 5\n",
      "Enter the numer at 5 6\n",
      "Enter the numer at 6 76\n"
     ]
    },
    {
     "name": "stdout",
     "output_type": "stream",
     "text": [
      "94\n"
     ]
    }
   ],
   "source": [
    "# Sum of elements in list\n",
    "def sum_List(list):\n",
    "    sum = 0\n",
    "    for i in list:\n",
    "        sum=sum+i\n",
    "    return sum\n",
    "list = []\n",
    "size = int(input(\"Enter the size of the list\"))\n",
    "for i in range(size):\n",
    "    num = int(input(f\"Enter the numer at {i+1}\"))\n",
    "    list.append(num)\n",
    "print(sum_List(list))\n",
    "# print(res)"
   ]
  },
  {
   "cell_type": "code",
   "execution_count": 9,
   "id": "84fd085b-e4e2-473d-b500-30c877ecfc2a",
   "metadata": {},
   "outputs": [
    {
     "name": "stdout",
     "output_type": "stream",
     "text": [
      "5\n"
     ]
    }
   ],
   "source": [
    "def find_max(lst):\n",
    "    max_value = lst[0]\n",
    "    for num in lst:\n",
    "        if num > max_value:\n",
    "            max_value = num\n",
    "    return max_value\n",
    "\n",
    "l1 = [1, 2, 3, 4, 5]\n",
    "print(find_max(l1))\n"
   ]
  },
  {
   "cell_type": "code",
   "execution_count": 12,
   "id": "a3ec54d0-f343-4a5b-a006-bcb79e6d9fc8",
   "metadata": {},
   "outputs": [
    {
     "name": "stdout",
     "output_type": "stream",
     "text": [
      "993\n"
     ]
    }
   ],
   "source": [
    "# Finding maximum of the list\n",
    "def find_max(list):\n",
    "    max = list[0]\n",
    "    for i in list:\n",
    "        if(i>max):\n",
    "            max = i\n",
    "    return max\n",
    "l1 = [1,2,993,4,5,99]\n",
    "print(find_max(l1))"
   ]
  },
  {
   "cell_type": "code",
   "execution_count": 1,
   "id": "12c9059a-3e3a-4e32-b02c-e1895001230e",
   "metadata": {},
   "outputs": [
    {
     "name": "stdin",
     "output_type": "stream",
     "text": [
      "Enter the size 5\n",
      "Enter the number 1\n",
      "Enter the number 2\n",
      "Enter the number 1\n",
      "Enter the number 3\n",
      "Enter the number 2\n"
     ]
    },
    {
     "name": "stdout",
     "output_type": "stream",
     "text": [
      "[1, 2, 3]\n"
     ]
    }
   ],
   "source": [
    "# remove the duplicates in the list\n",
    "def remove_dup(l1):\n",
    "    i=0\n",
    "    while i<len(l1):\n",
    "        j=i+1\n",
    "        while j<len(l1):\n",
    "            if(l1[i]==l1[j]):\n",
    "                l1.pop(j)\n",
    "            else:\n",
    "                j=j+1\n",
    "        i=i+1\n",
    "    return l1\n",
    "l1 = []\n",
    "n = int(input(\"Enter the size\"))\n",
    "i=0\n",
    "while i<n:\n",
    "    inp = int(input(\"Enter the number\"))\n",
    "    l1.append(inp)\n",
    "    i=i+1\n",
    "res = remove_dup(l1)\n",
    "print(res)"
   ]
  },
  {
   "cell_type": "code",
   "execution_count": 7,
   "id": "91a78821-5dd6-4875-b102-e9677d37860b",
   "metadata": {},
   "outputs": [
    {
     "name": "stdout",
     "output_type": "stream",
     "text": [
      "[6, 5, 4, 3, 2, 1]\n"
     ]
    }
   ],
   "source": [
    "# Reverse a list\n",
    "def rev(l1):\n",
    "    lef = 0\n",
    "    rig = len(l1)-1\n",
    "    while(lef<rig):\n",
    "        temp = l1[lef]\n",
    "        l1[lef] = l1[rig]\n",
    "        l1[rig]=temp\n",
    "        lef = lef +1\n",
    "        rig = rig-1\n",
    "    return l1\n",
    "l1 = [1,2,3,4,5,6]\n",
    "res =rev(l1)\n",
    "print(res)"
   ]
  },
  {
   "cell_type": "code",
   "execution_count": 17,
   "id": "1d62bc0d-2d78-4f17-abf1-42f05c4d3b1d",
   "metadata": {},
   "outputs": [
    {
     "name": "stdout",
     "output_type": "stream",
     "text": [
      "No\n"
     ]
    }
   ],
   "source": [
    "# Check for the palindrome\n",
    "def check_palin(l1):\n",
    "    dup = l1\n",
    "    lef =0\n",
    "    count=0\n",
    "    rig = len(l1)-1\n",
    "    while(lef<=rig):\n",
    "        if(l1[lef]==l1[rig]):\n",
    "            count=count+1\n",
    "            \n",
    "        lef=lef+1\n",
    "        rig=rig-1\n",
    "        return count\n",
    "l1 = [1,2,2,1]\n",
    "res = check_palin(l1)\n",
    "size = len(l1)//2\n",
    "if(res==size):\n",
    "    print(\"Yes\")\n",
    "else:\n",
    "    print(\"No\")"
   ]
  },
  {
   "cell_type": "code",
   "execution_count": 9,
   "id": "52c5915e-9f73-46f2-b036-a49911e1ffb3",
   "metadata": {},
   "outputs": [
    {
     "name": "stdout",
     "output_type": "stream",
     "text": [
      "[1, 2, 3, 4, 5]\n"
     ]
    }
   ],
   "source": [
    "l1 = [1,2,3,4,5]\n",
    "dup =l1\n",
    "print(dup)"
   ]
  },
  {
   "cell_type": "code",
   "execution_count": null,
   "id": "a753107e-19aa-4551-9326-62c64ac2ba2d",
   "metadata": {},
   "outputs": [],
   "source": []
  }
 ],
 "metadata": {
  "kernelspec": {
   "display_name": "Python 3 (ipykernel)",
   "language": "python",
   "name": "python3"
  },
  "language_info": {
   "codemirror_mode": {
    "name": "ipython",
    "version": 3
   },
   "file_extension": ".py",
   "mimetype": "text/x-python",
   "name": "python",
   "nbconvert_exporter": "python",
   "pygments_lexer": "ipython3",
   "version": "3.12.0"
  }
 },
 "nbformat": 4,
 "nbformat_minor": 5
}
