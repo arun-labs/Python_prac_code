{
 "cells": [
  {
   "cell_type": "code",
   "execution_count": 1,
   "id": "c75f8f87-7c6f-4dc5-a44e-426233f74d32",
   "metadata": {},
   "outputs": [
    {
     "name": "stdout",
     "output_type": "stream",
     "text": [
      "Hello\n",
      "Hey this is code\n"
     ]
    }
   ],
   "source": [
    "def print_fun():\n",
    "    print(\"Hello\")\n",
    "    print(\"Hey this is code\")\n",
    "print_fun()"
   ]
  },
  {
   "cell_type": "code",
   "execution_count": 8,
   "id": "919d2bcb-a513-4cee-898a-6a2840787536",
   "metadata": {},
   "outputs": [
    {
     "name": "stdout",
     "output_type": "stream",
     "text": [
      "7\n",
      "Hi\n"
     ]
    }
   ],
   "source": [
    "def add(a,b):\n",
    "    res = a +b\n",
    "    return res\n",
    "print(add(3,4))\n",
    "print(\"Hi\")"
   ]
  },
  {
   "cell_type": "code",
   "execution_count": 16,
   "id": "744b89f2-d726-4271-aa06-0baccc32fd95",
   "metadata": {},
   "outputs": [
    {
     "name": "stdout",
     "output_type": "stream",
     "text": [
      "Check\n"
     ]
    },
    {
     "name": "stdin",
     "output_type": "stream",
     "text": [
      "Enter the input value 5\n"
     ]
    },
    {
     "name": "stdout",
     "output_type": "stream",
     "text": [
      "120\n"
     ]
    }
   ],
   "source": [
    "# FINDING FACTORIAL OF A NUMBER USING FUNCTION\n",
    "def fact(num):\n",
    "    res=1\n",
    "    for i in range(num,1,-1):\n",
    "        res = res*i\n",
    "        # print(i)\n",
    "    print(res)\n",
    "\n",
    "print(\"Check\")\n",
    "num = int(input(\"Enter the input value\"))\n",
    "fact(num)"
   ]
  },
  {
   "cell_type": "code",
   "execution_count": 17,
   "id": "468fa94d-ee71-4d95-979c-728f1e64702c",
   "metadata": {},
   "outputs": [],
   "source": [
    "# By the above code we understand that in python first the code gets executed without functions than the functions\n"
   ]
  },
  {
   "cell_type": "code",
   "execution_count": 23,
   "id": "4b382862-59af-4ab6-869f-251abf56b50a",
   "metadata": {},
   "outputs": [
    {
     "name": "stdin",
     "output_type": "stream",
     "text": [
      "Enter the string:  hello world\n"
     ]
    },
    {
     "name": "stdout",
     "output_type": "stream",
     "text": [
      "Reversed string: dlrow olleh\n"
     ]
    }
   ],
   "source": [
    "def reverse(a):\n",
    "    rev_string = \"\"\n",
    "    for i in a:\n",
    "        rev_string = i + rev_string\n",
    "    return rev_string\n",
    "\n",
    "input_string = input(\"Enter the string: \")\n",
    "reversed_string = reverse(input_string)\n",
    "print(\"Reversed string:\", reversed_string)\n"
   ]
  },
  {
   "cell_type": "code",
   "execution_count": 25,
   "id": "16aa8334-dd0c-4b68-828b-1ff3e270af5c",
   "metadata": {},
   "outputs": [
    {
     "name": "stdin",
     "output_type": "stream",
     "text": [
      "Enter a string:  heh\n"
     ]
    },
    {
     "name": "stdout",
     "output_type": "stream",
     "text": [
      "It's a palindrome!\n"
     ]
    }
   ],
   "source": [
    "def is_palindrome(s):\n",
    "    s = s.lower()  \n",
    "    s = s.replace(\" \", \"\")\n",
    "    return s == s[::-1]\n",
    "\n",
    "input_string = input(\"Enter a string: \")\n",
    "\n",
    "if is_palindrome(input_string):\n",
    "    print(\"It's a palindrome!\")\n",
    "else:\n",
    "    print(\"It's not a palindrome.\")\n"
   ]
  },
  {
   "cell_type": "code",
   "execution_count": 26,
   "id": "7d77081f-1295-4fc0-ae41-3fb8a3ffb656",
   "metadata": {},
   "outputs": [
    {
     "name": "stdin",
     "output_type": "stream",
     "text": [
      "Enter the number of Fibonacci terms:  10\n"
     ]
    },
    {
     "name": "stdout",
     "output_type": "stream",
     "text": [
      "Fibonacci sequence up to 10 terms: [0, 1, 1, 2, 3, 5, 8, 13, 21, 34]\n"
     ]
    }
   ],
   "source": [
    "def fibonacci(n):\n",
    "    sequence = [0, 1]  \n",
    "    while len(sequence) < n:\n",
    "        next_number = sequence[-1] + sequence[-2]\n",
    "        sequence.append(next_number)\n",
    "\n",
    "    return sequence\n",
    "\n",
    "n = int(input(\"Enter the number of Fibonacci terms: \"))\n",
    "fibonacci_sequence = fibonacci(n)\n",
    "print(f\"Fibonacci sequence up to {n} terms: {fibonacci_sequence}\")\n"
   ]
  },
  {
   "cell_type": "code",
   "execution_count": 34,
   "id": "e98cca98-8da1-493e-8a65-462e30a6d06d",
   "metadata": {},
   "outputs": [
    {
     "name": "stdout",
     "output_type": "stream",
     "text": [
      "Enter the two numberss u want to perform operations\n"
     ]
    },
    {
     "name": "stdin",
     "output_type": "stream",
     "text": [
      "Enter the first number 4\n",
      "Enter the second number 3\n"
     ]
    },
    {
     "name": "stdout",
     "output_type": "stream",
     "text": [
      "select the operation you want to perform\n"
     ]
    },
    {
     "name": "stdin",
     "output_type": "stream",
     "text": [
      "Enter the operation symbol +\n"
     ]
    },
    {
     "name": "stdout",
     "output_type": "stream",
     "text": [
      "7\n"
     ]
    }
   ],
   "source": [
    "# building a calculator using functions\n",
    "print(\"Enter the two numberss u want to perform operations\")\n",
    "num1 = int( input(\"Enter the first number\"))\n",
    "num2 = int(input(\"Enter the second number\"))\n",
    "print(\"select the operation you want to perform\")\n",
    "oper = str(input(\"Enter the operation symbol\"))\n",
    "if(oper == \"+\"):\n",
    "    print(add(num1,num2))    \n",
    "elif(oper ==\"-\"):\n",
    "     print(sub(num1,num2))\n",
    "elif(oper==\"*\"):\n",
    "    print(mul(num1,num2))\n",
    "elif(oper==\"/\"):\n",
    "    print(div(num1,num2))\n",
    "\n",
    "\n",
    "def add(num1,num2):\n",
    "    ans = num1+num2\n",
    "    return ans\n",
    "def sub(num1,num2):\n",
    "    return num1-num2\n",
    "\n",
    "def mul(num1,num2):\n",
    "    ans = num1*num2\n",
    "    return ans\n",
    "def div(num1,num2):\n",
    "    ans = num1/num2\n",
    "    return ans"
   ]
  },
  {
   "cell_type": "code",
   "execution_count": null,
   "id": "4e458ea6-2f86-4e69-944b-866307787296",
   "metadata": {},
   "outputs": [],
   "source": []
  }
 ],
 "metadata": {
  "kernelspec": {
   "display_name": "Python 3 (ipykernel)",
   "language": "python",
   "name": "python3"
  },
  "language_info": {
   "codemirror_mode": {
    "name": "ipython",
    "version": 3
   },
   "file_extension": ".py",
   "mimetype": "text/x-python",
   "name": "python",
   "nbconvert_exporter": "python",
   "pygments_lexer": "ipython3",
   "version": "3.12.0"
  }
 },
 "nbformat": 4,
 "nbformat_minor": 5
}
