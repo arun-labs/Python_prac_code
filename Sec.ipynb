{
 "cells": [
  {
   "cell_type": "code",
   "execution_count": 1,
   "id": "21bbd840-2e47-48ac-9177-97a84370b400",
   "metadata": {},
   "outputs": [
    {
     "name": "stdin",
     "output_type": "stream",
     "text": [
      "Enter the number 121\n"
     ]
    },
    {
     "name": "stdout",
     "output_type": "stream",
     "text": [
      "Yes\n"
     ]
    }
   ],
   "source": [
    "#prog to finmd the num is palin or not\n",
    "num = int(input(\"Enter the number\"))\n",
    "temp = num\n",
    "res = 0\n",
    "while temp>0:\n",
    "    rem = temp%10\n",
    "    res = res*10+rem\n",
    "    temp=temp//10\n",
    "\n",
    "if res==num:\n",
    "    print(\"Yes\")\n",
    "\n",
    "else:\n",
    "    print(\"No\")"
   ]
  },
  {
   "cell_type": "code",
   "execution_count": 2,
   "id": "14dc2e4c-3ec2-44aa-b542-21ebd89bd4fa",
   "metadata": {},
   "outputs": [
    {
     "name": "stdin",
     "output_type": "stream",
     "text": [
      "Enter the number 55\n"
     ]
    },
    {
     "name": "stdout",
     "output_type": "stream",
     "text": [
      "odd\n"
     ]
    }
   ],
   "source": [
    "#To find the innput is even or odd\n",
    "num = int(input(\"Enter the number\"))\n",
    "if(num%2==0):\n",
    "    print(\"Even\")\n",
    "else:\n",
    "    print(\"odd\")"
   ]
  },
  {
   "cell_type": "code",
   "execution_count": 15,
   "id": "91af38ae-a748-46de-983f-d9ce4b42f89f",
   "metadata": {},
   "outputs": [
    {
     "name": "stdin",
     "output_type": "stream",
     "text": [
      "Enter the height in m 1.63\n",
      "Enter the weight in kg 66\n"
     ]
    },
    {
     "name": "stdout",
     "output_type": "stream",
     "text": [
      "You are overweight\n",
      "24.840980089578082\n"
     ]
    }
   ],
   "source": [
    "# use of conditional statements\n",
    "height = float(input(\"Enter the height in m\"))\n",
    "weight = int(input(\"Enter the weight in kg\"))\n",
    "bmi = weight/height**2\n",
    "if(bmi<18):\n",
    "    print(\"You are underweight\")\n",
    "elif(bmi>18 and bmi<=24):\n",
    "    print(\"Yor are fit \")\n",
    "\n",
    "else:\n",
    "    print(\"You are overweight\")\n",
    "\n",
    "print(bmi)"
   ]
  },
  {
   "cell_type": "code",
   "execution_count": 11,
   "id": "3979e755-d355-4919-aae6-2379befc10e7",
   "metadata": {},
   "outputs": [
    {
     "name": "stdout",
     "output_type": "stream",
     "text": [
      "hi\n"
     ]
    }
   ],
   "source": [
    "\"\"\"This is the \n",
    "    multiline comment\n",
    "\"\"\"\n",
    "'''kdjhj\n",
    "'''\n",
    "print(\"hi\")"
   ]
  },
  {
   "cell_type": "code",
   "execution_count": 27,
   "id": "24419359-242b-4ab2-b160-2a6e14018995",
   "metadata": {},
   "outputs": [
    {
     "name": "stdin",
     "output_type": "stream",
     "text": [
      "Enter the year 2020\n"
     ]
    },
    {
     "name": "stdout",
     "output_type": "stream",
     "text": [
      "Its a leap year\n"
     ]
    }
   ],
   "source": [
    "# Find out the year is leap year or not\n",
    "num = int(input(\"Enter the year\"))\n",
    "if (num%4==0 and num%100!=0)or(num%400==0):\n",
    "    print(\"Its a leap year\")\n",
    "else:\n",
    "    print(\"No not a leap year\")\n",
    "     "
   ]
  },
  {
   "cell_type": "code",
   "execution_count": 34,
   "id": "a9d62358-3f8d-4138-8c90-6eaae4535c81",
   "metadata": {},
   "outputs": [
    {
     "name": "stdin",
     "output_type": "stream",
     "text": [
      "Enter the size of the Pizza  L  S  M choose one l\n",
      "Enter do you want topings or not Y or N y\n",
      "Enter do you want cheese or not Y or N y\n"
     ]
    },
    {
     "name": "stdout",
     "output_type": "stream",
     "text": [
      "28\n"
     ]
    }
   ],
   "source": [
    "# Pizza order question\n",
    "size = str(input(\"Enter the size of the Pizza \"+\" L  S  M\"+\" choose one\"))\n",
    "s=15\n",
    "m=20\n",
    "l=25\n",
    "topings = str(input(\"Enter do you want topings or not\" +\" Y or N\"))\n",
    "cheese = str(input(\"Enter do you want cheese or not \"+\"Y or N\"))\n",
    "if(size == \"s\" ):\n",
    "    if topings ==\"y\" and cheese ==\"y\":\n",
    "        price = s+3+1\n",
    "        print(f\"your price is {price}\")\n",
    "    elif(topings ==\"y\" and cheese ==\"n\"):\n",
    "        price = s+3\n",
    "        print(f\"your price is {price}\")\n",
    "    else:\n",
    "        price =s\n",
    "        print(f\"your price is {price}\")\n",
    "if(size==\"m\"):\n",
    "    if(topings==\"y\" and cheese==\"y\"):\n",
    "        price = m+2+1\n",
    "        print(price)\n",
    "    elif(topings ==\"y\" and cheese==\"n\"):\n",
    "        price = m+2\n",
    "        print(price)\n",
    "    else:\n",
    "        price = m\n",
    "        print(price)\n",
    "if(size==\"l\"):\n",
    "    if(topings==\"y\" and cheese==\"y\"):\n",
    "        price = l+2+1\n",
    "        print(price)\n",
    "    elif(topings ==\"y\" and cheese==\"n\"):\n",
    "        price = l+2\n",
    "        print(price)\n",
    "    else:\n",
    "        price = l\n",
    "        print(price)\n"
   ]
  },
  {
   "cell_type": "code",
   "execution_count": 38,
   "id": "1b9190b2-1f34-4832-9447-3f2ed87e3e14",
   "metadata": {},
   "outputs": [
    {
     "name": "stdin",
     "output_type": "stream",
     "text": [
      "Enter name1 david beckam\n",
      "Enter name2 victoria beckam\n"
     ]
    },
    {
     "name": "stdout",
     "output_type": "stream",
     "text": [
      "45\n"
     ]
    }
   ],
   "source": [
    "#True Love Game\n",
    "name1 = str(input(\"Enter name1\"))\n",
    "name2 = str(input(\"Enter name2\"))\n",
    "full = name1+name2\n",
    "lf = full.lower()\n",
    "t = lf.count(\"t\")\n",
    "r = lf.count(\"r\")\n",
    "u  = lf.count(\"u\")\n",
    "e = lf.count(\"e\")\n",
    "first_cal = t+r+u+e\n",
    "\n",
    "l=lf.count(\"l\")\n",
    "o=lf.count(\"o\")\n",
    "v=lf.count(\"v\")\n",
    "e = lf.count(\"e\")\n",
    "second_cal = l+o+v+e\n",
    "\n",
    "final_cal = str(first_cal)+str(second_cal)\n",
    "print(final_cal)\n"
   ]
  },
  {
   "cell_type": "code",
   "execution_count": null,
   "id": "e47f7258-308b-4b66-ac77-0261c405990d",
   "metadata": {},
   "outputs": [],
   "source": []
  }
 ],
 "metadata": {
  "kernelspec": {
   "display_name": "Python 3 (ipykernel)",
   "language": "python",
   "name": "python3"
  },
  "language_info": {
   "codemirror_mode": {
    "name": "ipython",
    "version": 3
   },
   "file_extension": ".py",
   "mimetype": "text/x-python",
   "name": "python",
   "nbconvert_exporter": "python",
   "pygments_lexer": "ipython3",
   "version": "3.12.0"
  }
 },
 "nbformat": 4,
 "nbformat_minor": 5
}
